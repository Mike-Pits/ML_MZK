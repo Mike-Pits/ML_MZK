{
  "cells": [
    {
      "cell_type": "markdown",
      "metadata": {
        "id": "view-in-github",
        "colab_type": "text"
      },
      "source": [
        "<a href=\"https://colab.research.google.com/github/Mike-Pits/ML_MZK/blob/main/%D0%9A%D0%BE%D0%BF%D0%B8%D1%8F_%D0%B1%D0%BB%D0%BE%D0%BA%D0%BD%D0%BE%D1%82%D0%B0_%22%D0%A1%D0%BA%D0%BB%D0%B0%D0%B4_5_%D0%90%D1%80%D0%B8%D1%85%D0%B2%22.ipynb\" target=\"_parent\"><img src=\"https://colab.research.google.com/assets/colab-badge.svg\" alt=\"Open In Colab\"/></a>"
      ]
    },
    {
      "cell_type": "code",
      "execution_count": null,
      "metadata": {
        "id": "hzOLsn9iiUin"
      },
      "outputs": [],
      "source": [
        "import numpy as np \n",
        "import pandas as pd\n",
        "import cv2 \n",
        "from google.colab.patches import cv2_imshow\n",
        "from copy import deepcopy\n",
        "from sklearn.neighbors import KDTree\n",
        "\n",
        "PIXELS_IN_METER = 7\n",
        "METERS_IN_PIXEL = 1 / PIXELS_IN_METER\n",
        "SECONDS_IN_FRAME = 1\n",
        "FRAMES_IN_SECOND = 1 / SECONDS_IN_FRAME\n",
        "TRUCK_SPEED = 10 / 3.6     # m/s\n",
        "MOVER_SPEED = 5 / 3.6\n",
        "LOADER_SPEED = 5 / 3.6\n",
        "STACKER_SPEED = 2.5 / 3.6\n",
        "FORKLIFT_SPEED = 3.6 / 3.6\n",
        "\n",
        "ERRORS = pd.DataFrame(columns=['Error', 'Info'])"
      ]
    },
    {
      "cell_type": "markdown",
      "metadata": {
        "id": "NlNv2hseSahZ"
      },
      "source": [
        "# Основа"
      ]
    },
    {
      "cell_type": "markdown",
      "metadata": {
        "id": "EyYaqy1ZLwOv"
      },
      "source": [
        "## Координаты стеллажей"
      ]
    },
    {
      "cell_type": "code",
      "execution_count": null,
      "metadata": {
        "colab": {
          "base_uri": "https://localhost:8080/"
        },
        "id": "oU0m14UgiXl7",
        "outputId": "a6d174a2-9571-48af-c154-e6874d9d5cfa"
      },
      "outputs": [
        {
          "output_type": "execute_result",
          "data": {
            "text/plain": [
              "array([[  1.  ,   0.75],\n",
              "       [  7.  ,   0.75],\n",
              "       [ 19.  ,   0.75],\n",
              "       ...,\n",
              "       [115.  ,  98.5 ],\n",
              "       [127.  ,  98.5 ],\n",
              "       [133.  ,  98.5 ]])"
            ]
          },
          "metadata": {},
          "execution_count": 2
        }
      ],
      "source": [
        "'''\n",
        "\n",
        "                (y)\n",
        "    0----------->\n",
        "    |\n",
        "    |\n",
        "    |\n",
        "    |\n",
        "(x) V \n",
        "\n",
        "\n",
        "\n",
        "'''\n",
        "\n",
        "# Координаты стеллажей в метрах:\n",
        "\n",
        "X = np.array([0, 6, 18,  24,  30,  42,  48,  54,  66,  78,  90,  96, 108, 114, 126, 132]) + 1       # верхний левый угол\n",
        "Y = np.hstack([np.arange(0.750, 99, 4.5), np.arange(4, 99, 4.5)])\n",
        "# Y = np.hstack([np.arange(0.50, 99, 4.5), np.arange(4.25, 99, 4.5)])\n",
        "Y.sort()\n",
        "\n",
        "column_names = [str(i) for i in range(X[-1]//6 + 1)]\n",
        "C = (X - 1) // 6                                                # Индексация каждого стеллажа = ряд + колонна (например \"F-12\")\n",
        "rack_column_names = [str(C[i]) for i in range(len(C))]\n",
        "row_names = [chr(i) for i in range(ord('A'), ord('W')+1)]\n",
        "\n",
        "rack_coordinates = [list(zip(X , [[y]*len(X) for y in Y][i])) for i in range(len(Y))]  # пример того, как не надо писать)\n",
        "rack_coordinates = np.array(rack_coordinates).reshape(44*16, 2)\n",
        "rack_coordinates"
      ]
    },
    {
      "cell_type": "code",
      "execution_count": null,
      "metadata": {
        "id": "3hapkwZR-ZGi"
      },
      "outputs": [],
      "source": [
        "Xt = np.array([12, 36, 60, 84, 102, 120]) + 1                # координаты стеллажей для временного хранения\n",
        "Xt = [(x + 1.8, x + 3) for x in Xt]\n",
        "Xt = np.array(Xt).flatten()\n",
        "Yt = [3.75 + i * 0.8 for i in range(15)] + [100 - 3.75 - 1 - i * 0.8 for i in range(15)]\n",
        "Yt.sort()\n",
        "temp_rack_coordinates = [list(zip(Xt , [[y]*len(Xt) for y in Yt][i])) for i in range(len(Yt))]\n",
        "temp_rack_coordinates = np.array(temp_rack_coordinates).reshape(30*12, 2)"
      ]
    },
    {
      "cell_type": "markdown",
      "metadata": {
        "id": "2i8LHeXFL001"
      },
      "source": [
        "## Классы палет и стеллажей"
      ]
    },
    {
      "cell_type": "code",
      "execution_count": null,
      "metadata": {
        "id": "L8mljD51FbGE"
      },
      "outputs": [],
      "source": [
        "class Product():\n",
        "    def __init__(self, \tarticle, sell_by_date=None, vertex_index=None, place=None):\n",
        "        self.article = article              \n",
        "        self.sell_by_date = sell_by_date\n",
        "        self.vertex_index = vertex_index\n",
        "\n",
        "    def __repr__(self):\n",
        "        return str(self.article)"
      ]
    },
    {
      "cell_type": "code",
      "execution_count": null,
      "metadata": {
        "id": "h1Dyzy4zFDG1"
      },
      "outputs": [],
      "source": [
        "class Pallet():\n",
        "    '''\n",
        "    products -      список товаров на паллете\n",
        "    rack -          ссылка на стеллаж (class Rack)\n",
        "    column -        номер колонны на стеллжае (0-3)\n",
        "    tier -          номер яруса (0-4)\n",
        "    x, y -          абсолютные координаты палеты (координаты стеллажа + относительные координаты)\n",
        "    DF_PROD -       голобальная таблица со списком всех товаров\n",
        "\n",
        "    '''\n",
        "    def __init__(self, \tproducts=[], rack=None, column=None, tier=None):\n",
        "        self.products = products              \n",
        "        self.rack = rack                  \n",
        "        self.column = column\n",
        "        self.tier = tier\n",
        "\n",
        "        if rack and column and tier:\n",
        "            self.on_rack = True\n",
        "            self.x = rack.x + 1.6 * self.column\n",
        "            self.y = rack.y \n",
        "        else:\n",
        "            self.on_rack = False\n",
        "\n",
        "\n",
        "    def putting_to_rack(self, rack, column, tier):\n",
        "            self.on_rack = True\n",
        "            self.rack = rack\n",
        "            self.column = column\n",
        "            self.tier = tier\n",
        "            self.x = rack.x + 1.6 * self.column\n",
        "            self.y = rack.y     \n",
        "            for prod in self.products:\n",
        "                i = prod.index\n",
        "                r = rack.r\n",
        "                c = rack.c\n",
        "                vertex = f'{r}-{c}(p-{column})' \n",
        "                DF_PROD.loc[i] = [prod, vertex, (column, tier), prod.sell_by_date]              # global dataframe\n",
        "\n",
        "    def getting_from_rack(self):\n",
        "            vertex_index = f'{self.rack.r}-{self.rack.c}(p-{self.column})'\n",
        "            self.on_rack = False\n",
        "            self.rack = None\n",
        "            self.column = None\n",
        "            self.tier = None\n",
        "            self.x = None\n",
        "            self.y = None    \n",
        "\n",
        "            for prod in self.products:\n",
        "                i = prod.index\n",
        "                x = vertex_dict[vertex_index].x\n",
        "                y = vertex_dict[vertex_index].y\n",
        "                DF_PROD.loc[i].Vertex = f'Оn going ({x}, {y})'              # global dataframe \n",
        "\n",
        "\n",
        "    def __repr__(self):\n",
        "        return f'[Pallet at ({self.column},{self.tier})]'\n"
      ]
    },
    {
      "cell_type": "code",
      "execution_count": null,
      "metadata": {
        "id": "aHYhG266Ei2k"
      },
      "outputs": [],
      "source": [
        "class Rack():\n",
        "    '''\n",
        "    Класс стеллажа\n",
        "    x, y -       координаты стеллажа в метрах\n",
        "    r, c -       ряд и колонна по длине и ширине склада (индексы стеллажа)\n",
        "    odevity -    чётность (для ориентировки, с какой стороны подъезжать)\n",
        "    pallets -    список паллет на стеллаже\n",
        "    put_pallet - положить паллету на стеллаж\n",
        "    get_pallet - забрать паллету со стеллажа\n",
        "\n",
        "    '''\n",
        "    def __init__(self, x, y, r=None, c=None, od=None):\n",
        "        self.x = x\n",
        "        self.y = y\n",
        "        self.r = r                          # избыточно?\n",
        "        self.c = c                          # (по [r, c] можно получить индекс соответствующей вершины графа)\n",
        "        self.od = od\n",
        "        self.pallets = np.full((4, 5), fill_value=None)\n",
        "\n",
        "\n",
        "    def put_pallet(self, pallet, column, tier):                     # type(pallete) == __main__.Pallet\n",
        "        assert column in [0,1,2,3], 'wrong column number'\n",
        "        assert tier in [0,1,2,3,4], 'wrong tier number'\n",
        "        assert not(self.pallets[column, tier]), 'the place is occupied'\n",
        "        assert not(pallet.on_rack), 'pallet, you try to put, is already on rack'\n",
        "        pallet.putting_to_rack(self, column, tier)\n",
        "        self.pallets[column, tier] = pallet\n",
        "\n",
        "\n",
        "    def get_pallet(self, column, tier):\n",
        "        assert self.pallets[column, tier], 'no pallet'\n",
        "        pallet = self.pallets[column, tier]\n",
        "        pallet.getting_from_rack()\n",
        "        self.pallets[column, tier] = None\n",
        "        return pallet\n",
        "\n",
        "\n",
        "    def __repr__(self):\n",
        "        a = {0: '\\'', 1: ''}[self.od]\n",
        "        return f'Rack {self.r}{a}-{self.c} at ({self.x/PIXELS_IN_METER:.1f}, {self.y/PIXELS_IN_METER:.1f})'"
      ]
    },
    {
      "cell_type": "code",
      "execution_count": null,
      "metadata": {
        "id": "EBn3JsI7Wvsn"
      },
      "outputs": [],
      "source": [
        "class Temp_rack():\n",
        "    def __init__(self, x, y, c, n):\n",
        "        self.column = c\n",
        "        self.num = n\n",
        "        self.pallet = None\n",
        "\n",
        "    def put_pallet(self, pallet):\n",
        "        if self.pallet:\n",
        "            print(f'{self} already has {self.pallet}')\n",
        "            ERRORS.loc[len(ERRORS)] = [f'{self} already has {self.pallet}', '']\n",
        "        else:\n",
        "            self.pallet = pallet\n",
        "\n",
        "    def get_pallet(self):\n",
        "        if self.pallet:\n",
        "            pallet = self.pallet\n",
        "            pallet.getting_from_rack()\n",
        "            self.pallet = None\n",
        "            return pallet\n",
        "        else:\n",
        "            print(f'{self} has no pallet')\n",
        "            ERRORS.loc[len(ERRORS)] = [f'{self} has no pallet', '']\n",
        "\n",
        "    def __repr__(self):\n",
        "        return f'Tamp Rack {self.column}-{self.num}'"
      ]
    },
    {
      "cell_type": "markdown",
      "metadata": {
        "id": "_fbF3cm8TqWG"
      },
      "source": [
        "## Граф"
      ]
    },
    {
      "cell_type": "code",
      "execution_count": null,
      "metadata": {
        "id": "vdxTdo5_oisv"
      },
      "outputs": [],
      "source": [
        "class Vertex():                              # Вершина графа   \n",
        "    def __init__(self, name, x=None, y=None):\n",
        "        self.name = name                        # имя должно быть уникальным, т.к. оно будет использоваться в качестве ключа для словаря содержащего все вершины графа\n",
        "        self.x = x\n",
        "        self.y = y\n",
        "\n",
        "    def set_xy(self, x, y):\n",
        "        self.x = x\n",
        "        self.y = y      \n",
        "\n",
        "    def get_xy(self):\n",
        "        return self.x, self.y     \n",
        "\n",
        "    def __repr__(self):\n",
        "        if self.x and self.y:\n",
        "            return f'{self.name} at ({self.x:.1f}, {self.y:.1f})'\n",
        "        else:\n",
        "            return self.name\n",
        "\n",
        "\n",
        "class Edge():                               # Ребро графа\n",
        "    def __init__(self, u, v, weight):       # u, v - Vertex names\n",
        "        self.u = u\n",
        "        self.v = v\n",
        "        self.weight = weight\n",
        "        self._weight = weight\n",
        "\n",
        "    def reversed(self):\n",
        "        return Edge(self.v, self.u, self.weight)\n",
        "\n",
        "    def orientation(self):\n",
        "        v = self.v\n",
        "        u = self.u \n",
        "\n",
        "        if u == 'temp':\n",
        "            return 'o'\n",
        "\n",
        "        if u[:2] == v[:2]:\n",
        "            return 'h'\n",
        "        elif u[-2] == v[-2]:\n",
        "            return 'v'\n",
        "        else:\n",
        "            return 'h'\n",
        "\n",
        "    def __lt__(self, other):\n",
        "        return self.weight < other.weight\n",
        "\n",
        "    def __repr__(self):\n",
        "        return f\"Edge [{self.u} -> {self.v}] (w={self.weight})\""
      ]
    },
    {
      "cell_type": "code",
      "execution_count": null,
      "metadata": {
        "id": "Fs20Ff_TUIhn"
      },
      "outputs": [],
      "source": [
        "VERTEX_DICT = vertex_dict = {}        # словарь всех вершин графа\n",
        "\n",
        "for r in row_names:\n",
        "    for c in rack_column_names:\n",
        "        if r == 'A':\n",
        "            for i in range(4):\n",
        "                v = Vertex(f'{r}\\'-{c}(p-{i})')\n",
        "                vertex_dict[v.name] = v \n",
        "\n",
        "        elif r == 'W':\n",
        "            for i in range(4):\n",
        "                v = Vertex(f'{r}-{c}(p-{i})')\n",
        "                vertex_dict[v.name] = v   \n",
        "        \n",
        "        else:\n",
        "            for i in range(4):\n",
        "                v = Vertex(f'{r}-{c}(p-{i})')\n",
        "                vertex_dict[v.name] = v         # для стеллажей: B-5(p-0), B-5(p-1), B-5(p-2), B-5(p-3) - 4 паллеты (↑) + 4 паллеты (↓)\n",
        "                v = Vertex(f'{r}\\'-{c}(p-{i})')\n",
        "                vertex_dict[v.name] = v \n",
        "\n",
        "pass_column_names = ['2', '6', '10', '12', '14', '17', '20']\n",
        "\n",
        "for i in range(len(row_names)-1):\n",
        "    for c in pass_column_names:\n",
        "        r = row_names[i] + row_names[i+1]\n",
        "        v = Vertex(f'{r}-{c}(L)')\n",
        "        vertex_dict[v.name] = v         # для проходов: AB-5(p-0), AB-5(p-1) - проход справа и слева\n",
        "        v = Vertex(f'{r}-{c}(R)')\n",
        "        vertex_dict[v.name] = v   \n",
        "\n",
        "i = 0\n",
        "temp_columns = []\n",
        "temp_nums = []\n",
        "while i <= len(temp_rack_coordinates)+59:\n",
        "    if (i+8)%14 == 0:\n",
        "        i += 2 \n",
        "\n",
        "    j = i % 14 // 2\n",
        "    col = ['2', '6', '10', '12', '14', '17', '20'][j]\n",
        "    num = i%2 + i//14*2\n",
        "\n",
        "    temp_columns.append(col)\n",
        "    temp_nums.append(num)\n",
        "\n",
        "    i += 1\n",
        "\n",
        "for c,n in zip(temp_columns, temp_nums):        # Для стеллажей временного хранения: t2-13 (t + номер складской колонны + номер стеллажа от 0 до 59)\n",
        "    v = Vertex(f't{c}-{n}')\n",
        "    vertex_dict[v.name] = v      "
      ]
    },
    {
      "cell_type": "code",
      "execution_count": null,
      "metadata": {
        "id": "J7xfnv0vZR0M"
      },
      "outputs": [],
      "source": [
        "class Graph():\n",
        "    def __init__(self, vertex_dict):\n",
        "        self.vertex_dict = vertex_dict\n",
        "        self.edge_dict = {key: [] for key in vertex_dict.keys()}     # !!! выражение dict.fromkeys(vertex_dict.keys(), value=[]) создаёт словарь, все элементы которого ссылаются на один и тотже пустой список\n",
        "\n",
        "    def add_vertex(self, key, value=None):\n",
        "        assert not(key in vertex_dict.keys()), 'vertex key already exists' \n",
        "        self.vertex_dict[key] = value\n",
        "        self.edge_dict[key] = []            # element of dict is list of edges\n",
        "\n",
        "    def add_edge(self, edge):\n",
        "        self.edge_dict[edge.u].append(edge)\n",
        "        self.edge_dict[edge.v].append(edge.reversed())\n",
        "\n",
        "    def add_edge_by_indice(self, u, v, weight):\n",
        "        edge = Edge(u, v, weight)\n",
        "        self.add_edge(edge)\n",
        "\n",
        "    def neighbors_for_vertex(self, vertex_name):\n",
        "        return self.edge_dict[vertex_name]\n",
        "\n",
        "# g = Graph(vertex_dict)"
      ]
    },
    {
      "cell_type": "code",
      "execution_count": null,
      "metadata": {
        "id": "39Qf7iMt3CiG"
      },
      "outputs": [],
      "source": [
        "class Node():                               # Структура необходимая для реализации поиска по графу\n",
        "    def __init__(self, vertex, distance, prev_node=None):\n",
        "        self.vertex = vertex\n",
        "        self.distance = distance\n",
        "\n",
        "    def __lt__(self, other):\n",
        "        return self.distance < other.distance\n",
        "\n",
        "    def __eq__(self, other):\n",
        "        return self.distance == other.distance"
      ]
    },
    {
      "cell_type": "code",
      "execution_count": null,
      "metadata": {
        "id": "3e8X5iB583QH"
      },
      "outputs": [],
      "source": [
        "from heapq import heappush, heappop\n",
        "\n",
        "class PriorityQueue():          # приоритезированная очередь - структура необходимая для реализации поиска по графу\n",
        "    def __init__(self):\n",
        "        self._container = []\n",
        "\n",
        "    @property\n",
        "    def empty(self):\n",
        "        return not self._container  \n",
        "\n",
        "    def push(self, item):\n",
        "        heappush(self._container, item)\n",
        "\n",
        "    def pop(self):\n",
        "        return heappop(self._container)\n",
        "\n",
        "    def __repr__(self):\n",
        "        return repr(self._container)"
      ]
    },
    {
      "cell_type": "markdown",
      "metadata": {
        "id": "lbwy6XDgU7GS"
      },
      "source": [
        "## Заполнение графа\n",
        "\n"
      ]
    },
    {
      "cell_type": "code",
      "execution_count": null,
      "metadata": {
        "id": "_fyT6g4j3rUs"
      },
      "outputs": [],
      "source": [
        "y_list = []\n",
        "\n",
        "y = 0.5 + 2.25                 # координаты середины проходов между стеллажами\n",
        "y_dict0 = {}\n",
        "i = 0\n",
        "while y < 100:\n",
        "    key = row_names[i]\n",
        "    y_dict0[key] = y\n",
        "    y += 4.5\n",
        "    i += 1\n",
        "\n",
        "y_list.append(y_dict0)\n",
        "\n",
        "y = 0.5 + 2.25                 # координаты середины проходов между стеллажами\n",
        "y_dict1 = {}\n",
        "i = 1\n",
        "while y < 100:\n",
        "    key = row_names[i]\n",
        "    y_dict1[key] = y\n",
        "    y += 4.5\n",
        "    i += 1\n",
        "\n",
        "y_list.append(y_dict1)"
      ]
    },
    {
      "cell_type": "code",
      "execution_count": null,
      "metadata": {
        "id": "KJLXumAcgWee"
      },
      "outputs": [],
      "source": [
        "'''\n",
        "Функции для заполнения графа\n",
        "\n",
        "g - граф\n",
        "r - складской ряд\n",
        "c - складская колонна\n",
        "od - чётность стеллажа (с какой стороны подъезжать)\n",
        "x, y - координаты левого верхнего угла стеллажа\n",
        "\n",
        "Для вершин графа соответствующих паллетам названия формируются так:\n",
        "{ряд}-{колонна}(p-{номер паллеты})              пример: D-4(p-2)\n",
        "Для чётных стеллажей добавляется апостроф       пример: D'-4(p-2)\n",
        "\n",
        "Для вершин графа соотвествующих точкам в проходах названия формируются так:\n",
        "{ряд1}{ряд2}-{колонна}{L или R}                 пример: AB-2(R)\n",
        "\n",
        "'''\n",
        "\n",
        "def expand_graph_rack(g, r, c, od, x, y):   \n",
        "\n",
        "    a = {0: '\\'', 1: ''}[od]                        # для чётных стеллажей добавляем в названии апостроф '\n",
        "    x += 0.6                                        # смещение вершины графа для нулевой паллеты относительно левого верхнего угла стеллажа\n",
        "    \n",
        "    y_dict = y_list[od]\n",
        "    y = y_dict[r]                                       # смещение по Y\n",
        "\n",
        "    for i in range(3):                          # ...и 3 ребра между ними\n",
        "        u = f'{r}{a}-{c}(p-{i})'\n",
        "        v = f'{r}{a}-{c}(p-{i+1})'\n",
        "        g.add_edge_by_indice(u, v, weight=1.6)\n",
        "        vertex_dict[u].set_xy(x+i*1.6, y)            # добавляем информацию о координатх данной вершины\n",
        "    vertex_dict[v].set_xy(x+4.8, y)\n",
        "\n",
        "    if od == 1:                                 # между стеллажами на соседних рядах (А - В)\n",
        "        for i in range(4):\n",
        "            r_index = row_names.index(r)\n",
        "            r1 = row_names[r_index - 1]\n",
        "            r2 = r                              # row_names[r_index]\n",
        "            u = f'{r1}\\'-{c}(p-{i})'\n",
        "            v = f'{r2}-{c}(p-{i})'\n",
        "            g.add_edge_by_indice(u, v, weight=0)     # w = 0 - фактически точки совпадают\n",
        "\n",
        "\n",
        "\n",
        "def expand_graph_pass(g, r, c):                   # Добавляет 2 вершины графа для точек в проходе и соединяет между собой соответствующие стеллажи и проходы (в т.ч. стеллажи между собой)\n",
        "\n",
        "    x1 = 1+ int(c) * 6 + 1\n",
        "    x2 = x1 + 4\n",
        "    y = 0.5 + (ord(r[0]) - 65) * 4.5 + 2.25\n",
        "    \n",
        "    if not(r in ['BC', 'CD', 'TU', 'UV']) or c == '12':        # если в проходе нет стеллажей для временного хранения\n",
        "        u = f'{r}-{c}(L)'                             # \n",
        "        v = f'{r}-{c}(R)'                             # \n",
        "        g.add_edge_by_indice(u, v, weight=3)          # то добавляем ребро между выходами слева и справа\n",
        "\n",
        "        if r != 'AB':\n",
        "            prev_r = chr(ord(r[0])-1) + chr(ord(r[1])-1)\n",
        "            u = f'{r}-{c}(L)'                                  #    к проходам сверху\n",
        "            v = f'{prev_r}-{c}(L)'                             # \n",
        "            g.add_edge_by_indice(u, v, weight=4.5)    \n",
        "\n",
        "            u = f'{r}-{c}(R)'                                  #    \n",
        "            v = f'{prev_r}-{c}(R)'                             # \n",
        "            g.add_edge_by_indice(u, v, weight=4.5)     \n",
        "\n",
        "    if r in ['BC', 'CD', 'TU', 'UV'] and c != 12:\n",
        "        if r != 'AB':\n",
        "            prev_r = chr(ord(r[0])-1) + chr(ord(r[1])-1)\n",
        "            u = f'{r}-{c}(L)'                                  #    к проходам сверху\n",
        "            v = f'{prev_r}-{c}(L)'                             # \n",
        "            g.add_edge_by_indice(u, v, weight=4.5)    \n",
        "\n",
        "            u = f'{r}-{c}(R)'                                  #    \n",
        "            v = f'{prev_r}-{c}(R)'                             # \n",
        "            g.add_edge_by_indice(u, v, weight=4.5)\n",
        "\n",
        "\n",
        "    if c in ['2', '17', '20']:            # добавляем рёбра между вершинами\n",
        "        c_ = int(c)\n",
        "        u = f'{r[0]}\\'-{c_-2}(p-3)'                    \n",
        "        v = f'{r[0]}\\'-{c_-1}(p-0)'\n",
        "        g.add_edge_by_indice(u, v, weight=1.2)           # между стеллажами А1 - А2\n",
        "\n",
        "        u = f'{r[1]}-{c_-2}(p-3)'                    \n",
        "        v = f'{r[1]}-{c_-1}(p-0)'\n",
        "        g.add_edge_by_indice(u, v, weight=1.2)           # между стеллажами В1 - В2\n",
        "\n",
        "        u = f'{r[0]}\\'-{c_-1}(p-3)'                    \n",
        "        v = f'{r}-{c}(L)'\n",
        "        g.add_edge_by_indice(u, v, weight=1.6)           # стеллаж A1 с левым проходом\n",
        "        vertex_dict[v].set_xy(x1, y)\n",
        "\n",
        "        u = f'{r[1]}-{c_-1}(p-3)'                    \n",
        "        v = f'{r}-{c}(L)'\n",
        "        g.add_edge_by_indice(u, v, weight=1.6)           # стеллаж B1 с левым проходом\n",
        "\n",
        "        u = f'{r[0]}\\'-{c_+1}(p-0)'                    \n",
        "        v = f'{r}-{c}(R)'\n",
        "        g.add_edge_by_indice(u, v, weight=1.6)           # стеллаж A3 с правым проходом\n",
        "        vertex_dict[v].set_xy(x2, y)\n",
        "\n",
        "        u = f'{r[1]}-{c_+1}(p-0)'                    \n",
        "        v = f'{r}-{c}(R)'\n",
        "        g.add_edge_by_indice(u, v, weight=1.6)           # стеллаж B3 с правым проходом\n",
        "\n",
        "        if c == '20':\n",
        "            c_ = int(c)\n",
        "            u = f'{r[0]}\\'-{c_+1}(p-3)'                        \n",
        "            v = f'{r[0]}\\'-{c_+2}(p-0)'\n",
        "            g.add_edge_by_indice(u, v, weight=1.2)           # между стеллажами А21 - А22\n",
        "\n",
        "            u = f'{r[1]}-{c_+1}(p-3)'                    \n",
        "            v = f'{r[1]}-{c_+2}(p-0)'\n",
        "            g.add_edge_by_indice(u, v, weight=1.2)           # между стеллажами В21 - В22\n",
        "\n",
        "    if c in ['6', '10']:            # добавляем рёбра между вершинами\n",
        "        c_ = int(c)\n",
        "        u = f'{r[0]}\\'-{c_-3}(p-3)'                    \n",
        "        v = f'{r[0]}\\'-{c_-2}(p-0)'\n",
        "        g.add_edge_by_indice(u, v, weight=1.2)           # между стеллажами А3 - А4\n",
        "\n",
        "        u = f'{r[0]}\\'-{c_-2}(p-3)'                    \n",
        "        v = f'{r[0]}\\'-{c_-1}(p-0)'\n",
        "        g.add_edge_by_indice(u, v, weight=1.2)           # между стеллажами А4 - А5\n",
        "\n",
        "        u = f'{r[1]}-{c_-3}(p-3)'                    \n",
        "        v = f'{r[1]}-{c_-2}(p-0)'\n",
        "        g.add_edge_by_indice(u, v, weight=1.2)           # между стеллажами В3 - В4\n",
        "\n",
        "        u = f'{r[1]}-{c_-2}(p-3)'                    \n",
        "        v = f'{r[1]}-{c_-1}(p-0)'\n",
        "        g.add_edge_by_indice(u, v, weight=1.2)           # между стеллажами В4 - В5\n",
        "\n",
        "        u = f'{r[0]}\\'-{c_-1}(p-3)'                    \n",
        "        v = f'{r}-{c}(L)'\n",
        "        g.add_edge_by_indice(u, v, weight=1.6)           # стеллаж A1 с левым проходом\n",
        "        vertex_dict[v].set_xy(x1, y)\n",
        "\n",
        "        u = f'{r[1]}-{c_-1}(p-3)'                    \n",
        "        v = f'{r}-{c}(L)'\n",
        "        g.add_edge_by_indice(u, v, weight=1.6)           # стеллаж B1 с левым проходом\n",
        "\n",
        "        u = f'{r[0]}\\'-{c_+1}(p-0)'                    \n",
        "        v = f'{r}-{c}(R)'\n",
        "        g.add_edge_by_indice(u, v, weight=1.6)           # стеллаж A3 с правым проходом\n",
        "        vertex_dict[v].set_xy(x2, y)\n",
        "\n",
        "        u = f'{r[1]}-{c_+1}(p-0)'                    \n",
        "        v = f'{r}-{c}(R)'\n",
        "        g.add_edge_by_indice(u, v, weight=1.6)           # стеллаж B3 с правым проходом\n",
        "\n",
        "    if c in ['12', '14']:            # добавляем рёбра между вершинами\n",
        "        c_ = int(c)\n",
        "\n",
        "        u = f'{r[0]}\\'-{c_-1}(p-3)'                    \n",
        "        v = f'{r}-{c}(L)'\n",
        "        g.add_edge_by_indice(u, v, weight=1.6)           # стеллаж A1 с левым проходом\n",
        "        vertex_dict[v].set_xy(x1, y)\n",
        "\n",
        "        u = f'{r[1]}-{c_-1}(p-3)'                    \n",
        "        v = f'{r}-{c}(L)'\n",
        "        g.add_edge_by_indice(u, v, weight=1.6)           # стеллаж B1 с левым проходом\n",
        "\n",
        "        u = f'{r[0]}\\'-{c_+1}(p-0)'                    \n",
        "        v = f'{r}-{c}(R)'\n",
        "        g.add_edge_by_indice(u, v, weight=1.6)           # стеллаж A3 с правым проходом\n",
        "        vertex_dict[v].set_xy(x2, y)\n",
        "\n",
        "        u = f'{r[1]}-{c_+1}(p-0)'                    \n",
        "        v = f'{r}-{c}(R)'\n",
        "        g.add_edge_by_indice(u, v, weight=1.6)           # стеллаж B3 с правым проходом\n",
        "\n",
        "\n",
        "def expand_graph_temp_rack(g, c, n, x, y):              # Стеллажи для временного хранения\n",
        "\n",
        "    if n%2 == 0:\n",
        "        x -= 0.9\n",
        "    else:\n",
        "        x += 1.2 + 0.9\n",
        "    y += 0.4\n",
        "\n",
        "    if n in [0,1]:\n",
        "        lr = {0:'L', 1:'R'}[n]\n",
        "        u = f'AB-{c}({lr})'\n",
        "        v = f't{c}-{n}'\n",
        "        g.add_edge_by_indice(u, v, weight=(1.25**2 + 0.8**2)**0.5)          # соединение с проходом AB\n",
        "        vertex_dict[v].set_xy(x, y)\n",
        "\n",
        "    else:\n",
        "        if not(n in [30, 31]):\n",
        "            u = f't{c}-{n}'\n",
        "            v = f't{c}-{n-2}'\n",
        "            g.add_edge_by_indice(u, v, weight=0.8)                              # соединение со стеллажами снижу\n",
        "            vertex_dict[u].set_xy(x, y)\n",
        "\n",
        "        if n in [10,11]:\n",
        "            lr = {10:'L', 11:'R'}[n]\n",
        "            u = f'BC-{c}({lr})'\n",
        "            v = f't{c}-{n}'  \n",
        "            g.add_edge_by_indice(u, v, weight=0.1)  \n",
        "\n",
        "        elif n in [20,21]:\n",
        "            lr = {20:'L', 21:'R'}[n]\n",
        "            u = f'CD-{c}({lr})'\n",
        "            v = f't{c}-{n}'  \n",
        "            g.add_edge_by_indice(u, v, weight=0.1)  \n",
        "\n",
        "        elif n in [28,29]:\n",
        "            lr = {28:'L', 29:'R'}[n]\n",
        "            u = f'DE-{c}({lr})'\n",
        "            v = f't{c}-{n}'  \n",
        "            g.add_edge_by_indice(u, v, weight=0.1)  \n",
        "\n",
        "        elif n in [30,31]:\n",
        "            lr = {30:'L', 31:'R'}[n]\n",
        "            u = f'ST-{c}({lr})'\n",
        "            v = f't{c}-{n}'  \n",
        "            g.add_edge_by_indice(u, v, weight=0.1) \n",
        "            vertex_dict[v].set_xy(x, y)\n",
        "\n",
        "        elif n in [38,39]:\n",
        "            lr = {38:'L', 39:'R'}[n]\n",
        "            u = f'TU-{c}({lr})'\n",
        "            v = f't{c}-{n}'  \n",
        "            g.add_edge_by_indice(u, v, weight=0.1) \n",
        "\n",
        "        elif n in [50,51]:\n",
        "            lr = {50:'L', 51:'R'}[n]\n",
        "            u = f'UV-{c}({lr})'\n",
        "            v = f't{c}-{n}'  \n",
        "            g.add_edge_by_indice(u, v, weight=0.1)   \n",
        "\n",
        "        elif n in [58, 59]:\n",
        "            lr = {58:'L', 59:'R'}[n]\n",
        "            u = f't{c}-{n}'\n",
        "            v = f'VW-{c}({lr})'\n",
        "            g.add_edge_by_indice(u, v, weight=((1.25+0.8)**2 + 2**2)**0.5)      # соедиение с проходом VW\n",
        "            # vertex_dict[u].set_xy(x, y)       "
      ]
    },
    {
      "cell_type": "code",
      "execution_count": null,
      "metadata": {
        "id": "beCw6eacekRZ"
      },
      "outputs": [],
      "source": [
        "def calculate_rack_key(i):\n",
        "    od = i // len(X) % 2                        # чётность стеллажа (с какой стороны подъезжать)\n",
        "    if i < len(X):\n",
        "        r = 'A'\n",
        "    else:\n",
        "        r = (i-len(X)) // (len(X)*2) + 1\n",
        "        r = row_names[r]                        # индекс складского ряда для данного стеллажа\n",
        "    c = i % len(X)\n",
        "    c = rack_column_names[c]                         # индекс складской колонны для данного стеллажа\n",
        "    return r, c, od"
      ]
    },
    {
      "cell_type": "code",
      "execution_count": null,
      "metadata": {
        "id": "K2rYrO0HSqRI"
      },
      "outputs": [],
      "source": [
        "def calculate_temp_rack_key(i):\n",
        "    j = i % 12 // 2\n",
        "    col = ['2', '6', '10', '14', '17', '20'][j]\n",
        "    num = i%2 + i//12*2\n",
        "    return col, num"
      ]
    },
    {
      "cell_type": "markdown",
      "metadata": {
        "id": "WnmfJutGL7DZ"
      },
      "source": [
        "## Формирование списка стеллажей и отрисовка склада"
      ]
    },
    {
      "cell_type": "code",
      "execution_count": null,
      "metadata": {
        "id": "fOe3jmX6Y59L"
      },
      "outputs": [],
      "source": [
        "def create_empty_rack_dataframe():\n",
        "    cols1 = row_names + [s + \"'\" for s in row_names]      # таблица, \n",
        "    cols1.sort()  \n",
        "    cols2 = ['t2', 't6', 't10', 't14', 't17', 't20']            # которая будет хранить объекты стеллажей \n",
        "    cols = cols1 + cols2\n",
        "    index = list(range(60))\n",
        "    DF_RACK = pd.DataFrame(columns=cols, index=index)\n",
        "    return DF_RACK"
      ]
    },
    {
      "cell_type": "code",
      "execution_count": null,
      "metadata": {
        "id": "a-iVW0b4ibIp"
      },
      "outputs": [],
      "source": [
        "def create_empty_warehouse(agents, create_df_rack=True, show_canvas=False):\n",
        "\n",
        "    global GRAPH\n",
        "    global empty_canvas\n",
        "    global AGENTS\n",
        "    global DF_RACK\n",
        "\n",
        "    if create_df_rack:\n",
        "        DF_RACK = create_empty_rack_dataframe()\n",
        "    AGENTS = agents\n",
        "\n",
        "    p = PIXELS_IN_METER\n",
        "    H = 100        # ширина склада в метрах\n",
        "    W = 140        # длина склада в метрах\n",
        "\n",
        "\n",
        "    canvas = np.ones((H*p+20, W*p+20, 3)) * 255\n",
        "    rack_list = []                          # список стеллажей\n",
        "    rack_dict = {}\n",
        "    GRAPH = graph = Graph(vertex_dict)\n",
        "\n",
        "    for i, (x, y) in enumerate(rack_coordinates):\n",
        "        r, c, od = calculate_rack_key(i)\n",
        "        a = {0: '\\'', 1: ''}[od]\n",
        "        \n",
        "        rack = Rack(x, y, r, c, od)\n",
        "        rack_list.append(rack)          # добавить стеллаж в список\n",
        "        name = f'{r}{a}-{c}'\n",
        "        rack_dict[name] = rack\n",
        "        DF_RACK[f'{r}{a}'][int(c)] = rack\n",
        "        expand_graph_rack(GRAPH, r, c, od, x, y)                  # расширить граф с учётом нового стеллажа\n",
        "\n",
        "        x1 = round(x * p)\n",
        "        y1 = round(y * p)\n",
        "        x2 = round((x+6) * p)\n",
        "        y2 = round((y+0.75) * p)\n",
        "\n",
        "        canvas = cv2.rectangle(canvas, (x1, y1), (x2, y2), (0, 0, 0), 1)\n",
        "\n",
        "    for i, (x, y) in enumerate(temp_rack_coordinates):\n",
        "        c = temp_columns[i]\n",
        "        n = temp_nums[i]\n",
        "        name = f't{c}-{n}'\n",
        "        rack = Temp_rack(x, y, c, n)\n",
        "        rack_list.append(rack)          # добавить стеллаж в список\n",
        "        rack_dict[name] = rack\n",
        "        DF_RACK[f't{c}'][int(n)] = rack\n",
        "        expand_graph_temp_rack(GRAPH, c, n, x, y)\n",
        "\n",
        "        x1 = round(x * p)\n",
        "        y1 = round(y * p)\n",
        "        x2 = round((x+1.2) * p)\n",
        "        y2 = round((y+0.8) * p)\n",
        "\n",
        "        canvas = cv2.rectangle(canvas, (x1, y1), (x2, y2), (0, 0, 0), 1)\n",
        "\n",
        "    for i,r in enumerate(row_names): \n",
        "        canvas = cv2.putText(canvas, r, (W*p+5, int(i*4.5*p + 8)), cv2.FONT_HERSHEY_DUPLEX, 0.5, [0,0,200],1)\n",
        "\n",
        "    for i,c in enumerate(column_names):\n",
        "        canvas = cv2.putText(canvas, c, (i*6*p+20, H*p+10), cv2.FONT_HERSHEY_DUPLEX, 0.5, [0,0,200],1)\n",
        "\n",
        "\n",
        "    pass_column_names = ['2', '6', '10', '12', '14', '17', '20']\n",
        "\n",
        "    for i in range(len(row_names)-1):\n",
        "        for j in range(len(pass_column_names)):\n",
        "            r = row_names[i]+row_names[i+1]\n",
        "            c = pass_column_names[j]\n",
        "            expand_graph_pass(graph, r, c)              # добавляет в граф точки в проходах, \n",
        "\n",
        "    DF_RACK.drop(columns=[\"A\", \"W'\"], inplace=True)                                                # и соединяет с существующими точками стеллажей\n",
        "    empty_canvas = canvas.copy()\n",
        "    if show_canvas:\n",
        "        cv2_imshow(canvas)\n",
        "\n",
        "create_empty_warehouse([], show_canvas=False)"
      ]
    },
    {
      "cell_type": "code",
      "source": [
        "\"\"\"\n",
        "Отрисовка всех вершин графа\n",
        "\n",
        "\"\"\"\n",
        "\n",
        "vertexes = empty_canvas.copy()\n",
        "for v in VERTEX_DICT.values():\n",
        "    x, y = round(v.x*PIXELS_IN_METER), round(v.y*PIXELS_IN_METER)\n",
        "    if v.name[0] == 't':\n",
        "        color = [0,0,255]\n",
        "    else:\n",
        "        color = [255,0,0]\n",
        "    # print(x, y)\n",
        "    vertexes = cv2.circle(vertexes, [x, y], 1, color, 1,)\n",
        "cv2_imshow(vertexes)"
      ],
      "metadata": {
        "colab": {
          "base_uri": "https://localhost:8080/"
        },
        "id": "aoFycSPs3mrZ",
        "outputId": "312e25b3-a12b-431c-d4ba-8cc1a0386f29"
      },
      "execution_count": null,
      "outputs": [
        {
          "output_type": "display_data",
          "data": {
            "text/plain": [
              "<PIL.Image.Image image mode=RGB size=1000x720 at 0x7F1A25B32E80>"
            ],
            "image/png": "[encoded data removed]"
          },
          "metadata": {}
        }
      ]
    },
    {
      "cell_type": "code",
      "source": [
        "canvas = empty_canvas.copy()\n",
        "for edges in GRAPH.edge_dict.values():\n",
        "    for e in edges:\n",
        "        \n",
        "        eu = VERTEX_DICT[e.u]\n",
        "        ev = VERTEX_DICT[e.v]\n",
        "        x1 = round(eu.x*PIXELS_IN_METER)\n",
        "        x2 = round(ev.x*PIXELS_IN_METER)\n",
        "        y1 = round(eu.y*PIXELS_IN_METER)\n",
        "        y2 = round(ev.y*PIXELS_IN_METER)\n",
        "\n",
        "        # print(e)\n",
        "        # print((x1,y1), (x2,y2))\n",
        "\n",
        "        if eu.name[0] == 't' or ev.name == 't':\n",
        "            color = [0,0,255]\n",
        "        else:\n",
        "            color = [255,0,0]\n",
        "\n",
        "        # cv2_imshow(canvas)\n",
        "        # input()\n",
        "\n",
        "        canvas = cv2.line(canvas, [x1, y1], [x2, y2], color, 1,)\n",
        "\n",
        "cv2_imshow(canvas)"
      ],
      "metadata": {
        "colab": {
          "base_uri": "https://localhost:8080/"
        },
        "id": "P24t25mGRmvH",
        "outputId": "1c90e076-2b4f-477c-f8fb-fbf62b86a4ce"
      },
      "execution_count": null,
      "outputs": [
        {
          "output_type": "display_data",
          "data": {
            "text/plain": [
              "<PIL.Image.Image image mode=RGB size=1000x720 at 0x7F1A24ED1C40>"
            ],
            "image/png": "[encoded data removed]"
          },
          "metadata": {}
        }
      ]
    },
    {
      "cell_type": "code",
      "execution_count": null,
      "metadata": {
        "colab": {
          "base_uri": "https://localhost:8080/"
        },
        "id": "qOnyXC_0nWuQ",
        "outputId": "652cc746-9bd1-4109-80e9-5f6937e1a60e"
      },
      "outputs": [
        {
          "output_type": "execute_result",
          "data": {
            "text/plain": [
              "        X       1.6       3.2 4.800000000000001       6.4       7.6       9.2  \\\n",
              "Y     NaN       NaN       NaN               NaN       NaN       NaN       NaN   \n",
              "2.75  NaN  B-0(p-0)  B-0(p-1)          B-0(p-2)  B-0(p-3)  B-1(p-0)  B-1(p-1)   \n",
              "4.15  NaN       NaN       NaN               NaN       NaN       NaN       NaN   \n",
              "4.95  NaN       NaN       NaN               NaN       NaN       NaN       NaN   \n",
              "5.75  NaN       NaN       NaN               NaN       NaN       NaN       NaN   \n",
              "\n",
              "          10.8 12.399999999999999  13.9  ...       126  126.1      127.6  \\\n",
              "Y          NaN                NaN   NaN  ...       NaN    NaN        NaN   \n",
              "2.75  B-1(p-2)           B-1(p-3)   NaN  ...  AB-20(R)    NaN  B-21(p-0)   \n",
              "4.15       NaN                NaN  t2-0  ...       NaN  t20-1        NaN   \n",
              "4.95       NaN                NaN  t2-2  ...       NaN  t20-3        NaN   \n",
              "5.75       NaN                NaN  t2-4  ...       NaN  t20-5        NaN   \n",
              "\n",
              "          129.2 130.79999999999998      132.4      133.6      135.2  \\\n",
              "Y           NaN                NaN        NaN        NaN        NaN   \n",
              "2.75  B-21(p-1)          B-21(p-2)  B-21(p-3)  B-22(p-0)  B-22(p-1)   \n",
              "4.15        NaN                NaN        NaN        NaN        NaN   \n",
              "4.95        NaN                NaN        NaN        NaN        NaN   \n",
              "5.75        NaN                NaN        NaN        NaN        NaN   \n",
              "\n",
              "     136.79999999999998      138.4  \n",
              "Y                   NaN        NaN  \n",
              "2.75          B-22(p-2)  B-22(p-3)  \n",
              "4.15                NaN        NaN  \n",
              "4.95                NaN        NaN  \n",
              "5.75                NaN        NaN  \n",
              "\n",
              "[5 rows x 91 columns]"
            ],
            "text/html": [
              "\n",
              "  <div id=\"df-8ef4f297-de8d-427d-8a2c-7067247f88c1\">\n",
              "    <div class=\"colab-df-container\">\n",
              "      <div>\n",
              "<style scoped>\n",
              "    .dataframe tbody tr th:only-of-type {\n",
              "        vertical-align: middle;\n",
              "    }\n",
              "\n",
              "    .dataframe tbody tr th {\n",
              "        vertical-align: top;\n",
              "    }\n",
              "\n",
              "    .dataframe thead th {\n",
              "        text-align: right;\n",
              "    }\n",
              "</style>\n",
              "<table border=\"1\" class=\"dataframe\">\n",
              "  <thead>\n",
              "    <tr style=\"text-align: right;\">\n",
              "      <th></th>\n",
              "      <th>X</th>\n",
              "      <th>1.6</th>\n",
              "      <th>3.2</th>\n",
              "      <th>4.800000000000001</th>\n",
              "      <th>6.4</th>\n",
              "      <th>7.6</th>\n",
              "      <th>9.2</th>\n",
              "      <th>10.8</th>\n",
              "      <th>12.399999999999999</th>\n",
              "      <th>13.9</th>\n",
              "      <th>...</th>\n",
              "      <th>126</th>\n",
              "      <th>126.1</th>\n",
              "      <th>127.6</th>\n",
              "      <th>129.2</th>\n",
              "      <th>130.79999999999998</th>\n",
              "      <th>132.4</th>\n",
              "      <th>133.6</th>\n",
              "      <th>135.2</th>\n",
              "      <th>136.79999999999998</th>\n",
              "      <th>138.4</th>\n",
              "    </tr>\n",
              "  </thead>\n",
              "  <tbody>\n",
              "    <tr>\n",
              "      <th>Y</th>\n",
              "      <td>NaN</td>\n",
              "      <td>NaN</td>\n",
              "      <td>NaN</td>\n",
              "      <td>NaN</td>\n",
              "      <td>NaN</td>\n",
              "      <td>NaN</td>\n",
              "      <td>NaN</td>\n",
              "      <td>NaN</td>\n",
              "      <td>NaN</td>\n",
              "      <td>NaN</td>\n",
              "      <td>...</td>\n",
              "      <td>NaN</td>\n",
              "      <td>NaN</td>\n",
              "      <td>NaN</td>\n",
              "      <td>NaN</td>\n",
              "      <td>NaN</td>\n",
              "      <td>NaN</td>\n",
              "      <td>NaN</td>\n",
              "      <td>NaN</td>\n",
              "      <td>NaN</td>\n",
              "      <td>NaN</td>\n",
              "    </tr>\n",
              "    <tr>\n",
              "      <th>2.75</th>\n",
              "      <td>NaN</td>\n",
              "      <td>B-0(p-0)</td>\n",
              "      <td>B-0(p-1)</td>\n",
              "      <td>B-0(p-2)</td>\n",
              "      <td>B-0(p-3)</td>\n",
              "      <td>B-1(p-0)</td>\n",
              "      <td>B-1(p-1)</td>\n",
              "      <td>B-1(p-2)</td>\n",
              "      <td>B-1(p-3)</td>\n",
              "      <td>NaN</td>\n",
              "      <td>...</td>\n",
              "      <td>AB-20(R)</td>\n",
              "      <td>NaN</td>\n",
              "      <td>B-21(p-0)</td>\n",
              "      <td>B-21(p-1)</td>\n",
              "      <td>B-21(p-2)</td>\n",
              "      <td>B-21(p-3)</td>\n",
              "      <td>B-22(p-0)</td>\n",
              "      <td>B-22(p-1)</td>\n",
              "      <td>B-22(p-2)</td>\n",
              "      <td>B-22(p-3)</td>\n",
              "    </tr>\n",
              "    <tr>\n",
              "      <th>4.15</th>\n",
              "      <td>NaN</td>\n",
              "      <td>NaN</td>\n",
              "      <td>NaN</td>\n",
              "      <td>NaN</td>\n",
              "      <td>NaN</td>\n",
              "      <td>NaN</td>\n",
              "      <td>NaN</td>\n",
              "      <td>NaN</td>\n",
              "      <td>NaN</td>\n",
              "      <td>t2-0</td>\n",
              "      <td>...</td>\n",
              "      <td>NaN</td>\n",
              "      <td>t20-1</td>\n",
              "      <td>NaN</td>\n",
              "      <td>NaN</td>\n",
              "      <td>NaN</td>\n",
              "      <td>NaN</td>\n",
              "      <td>NaN</td>\n",
              "      <td>NaN</td>\n",
              "      <td>NaN</td>\n",
              "      <td>NaN</td>\n",
              "    </tr>\n",
              "    <tr>\n",
              "      <th>4.95</th>\n",
              "      <td>NaN</td>\n",
              "      <td>NaN</td>\n",
              "      <td>NaN</td>\n",
              "      <td>NaN</td>\n",
              "      <td>NaN</td>\n",
              "      <td>NaN</td>\n",
              "      <td>NaN</td>\n",
              "      <td>NaN</td>\n",
              "      <td>NaN</td>\n",
              "      <td>t2-2</td>\n",
              "      <td>...</td>\n",
              "      <td>NaN</td>\n",
              "      <td>t20-3</td>\n",
              "      <td>NaN</td>\n",
              "      <td>NaN</td>\n",
              "      <td>NaN</td>\n",
              "      <td>NaN</td>\n",
              "      <td>NaN</td>\n",
              "      <td>NaN</td>\n",
              "      <td>NaN</td>\n",
              "      <td>NaN</td>\n",
              "    </tr>\n",
              "    <tr>\n",
              "      <th>5.75</th>\n",
              "      <td>NaN</td>\n",
              "      <td>NaN</td>\n",
              "      <td>NaN</td>\n",
              "      <td>NaN</td>\n",
              "      <td>NaN</td>\n",
              "      <td>NaN</td>\n",
              "      <td>NaN</td>\n",
              "      <td>NaN</td>\n",
              "      <td>NaN</td>\n",
              "      <td>t2-4</td>\n",
              "      <td>...</td>\n",
              "      <td>NaN</td>\n",
              "      <td>t20-5</td>\n",
              "      <td>NaN</td>\n",
              "      <td>NaN</td>\n",
              "      <td>NaN</td>\n",
              "      <td>NaN</td>\n",
              "      <td>NaN</td>\n",
              "      <td>NaN</td>\n",
              "      <td>NaN</td>\n",
              "      <td>NaN</td>\n",
              "    </tr>\n",
              "  </tbody>\n",
              "</table>\n",
              "<p>5 rows × 91 columns</p>\n",
              "</div>\n",
              "      <button class=\"colab-df-convert\" onclick=\"convertToInteractive('df-8ef4f297-de8d-427d-8a2c-7067247f88c1')\"\n",
              "              title=\"Convert this dataframe to an interactive table.\"\n",
              "              style=\"display:none;\">\n",
              "        \n",
              "  <svg xmlns=\"http://www.w3.org/2000/svg\" height=\"24px\"viewBox=\"0 0 24 24\"\n",
              "       width=\"24px\">\n",
              "    <path d=\"M0 0h24v24H0V0z\" fill=\"none\"/>\n",
              "    <path d=\"M18.56 5.44l.94 2.06.94-2.06 2.06-.94-2.06-.94-.94-2.06-.94 2.06-2.06.94zm-11 1L8.5 8.5l.94-2.06 2.06-.94-2.06-.94L8.5 2.5l-.94 2.06-2.06.94zm10 10l.94 2.06.94-2.06 2.06-.94-2.06-.94-.94-2.06-.94 2.06-2.06.94z\"/><path d=\"M17.41 7.96l-1.37-1.37c-.4-.4-.92-.59-1.43-.59-.52 0-1.04.2-1.43.59L10.3 9.45l-7.72 7.72c-.78.78-.78 2.05 0 2.83L4 21.41c.39.39.9.59 1.41.59.51 0 1.02-.2 1.41-.59l7.78-7.78 2.81-2.81c.8-.78.8-2.07 0-2.86zM5.41 20L4 18.59l7.72-7.72 1.47 1.35L5.41 20z\"/>\n",
              "  </svg>\n",
              "      </button>\n",
              "      \n",
              "  <style>\n",
              "    .colab-df-container {\n",
              "      display:flex;\n",
              "      flex-wrap:wrap;\n",
              "      gap: 12px;\n",
              "    }\n",
              "\n",
              "    .colab-df-convert {\n",
              "      background-color: #E8F0FE;\n",
              "      border: none;\n",
              "      border-radius: 50%;\n",
              "      cursor: pointer;\n",
              "      display: none;\n",
              "      fill: #1967D2;\n",
              "      height: 32px;\n",
              "      padding: 0 0 0 0;\n",
              "      width: 32px;\n",
              "    }\n",
              "\n",
              "    .colab-df-convert:hover {\n",
              "      background-color: #E2EBFA;\n",
              "      box-shadow: 0px 1px 2px rgba(60, 64, 67, 0.3), 0px 1px 3px 1px rgba(60, 64, 67, 0.15);\n",
              "      fill: #174EA6;\n",
              "    }\n",
              "\n",
              "    [theme=dark] .colab-df-convert {\n",
              "      background-color: #3B4455;\n",
              "      fill: #D2E3FC;\n",
              "    }\n",
              "\n",
              "    [theme=dark] .colab-df-convert:hover {\n",
              "      background-color: #434B5C;\n",
              "      box-shadow: 0px 1px 3px 1px rgba(0, 0, 0, 0.15);\n",
              "      filter: drop-shadow(0px 1px 2px rgba(0, 0, 0, 0.3));\n",
              "      fill: #FFFFFF;\n",
              "    }\n",
              "  </style>\n",
              "\n",
              "      <script>\n",
              "        const buttonEl =\n",
              "          document.querySelector('#df-8ef4f297-de8d-427d-8a2c-7067247f88c1 button.colab-df-convert');\n",
              "        buttonEl.style.display =\n",
              "          google.colab.kernel.accessAllowed ? 'block' : 'none';\n",
              "\n",
              "        async function convertToInteractive(key) {\n",
              "          const element = document.querySelector('#df-8ef4f297-de8d-427d-8a2c-7067247f88c1');\n",
              "          const dataTable =\n",
              "            await google.colab.kernel.invokeFunction('convertToInteractive',\n",
              "                                                     [key], {});\n",
              "          if (!dataTable) return;\n",
              "\n",
              "          const docLinkHtml = 'Like what you see? Visit the ' +\n",
              "            '<a target=\"_blank\" href=https://colab.research.google.com/notebooks/data_table.ipynb>data table notebook</a>'\n",
              "            + ' to learn more about interactive tables.';\n",
              "          element.innerHTML = '';\n",
              "          dataTable['output_type'] = 'display_data';\n",
              "          await google.colab.output.renderOutput(dataTable, element);\n",
              "          const docLink = document.createElement('div');\n",
              "          docLink.innerHTML = docLinkHtml;\n",
              "          element.appendChild(docLink);\n",
              "        }\n",
              "      </script>\n",
              "    </div>\n",
              "  </div>\n",
              "  "
            ]
          },
          "metadata": {},
          "execution_count": 21
        }
      ],
      "source": [
        "from sortedcontainers import SortedList\n",
        "\n",
        "ALL_X = set()                       # список всех координат для поиска ближайшей вершины графа\n",
        "ALL_Y = set()\n",
        "ALL_XY = []\n",
        "\n",
        "for value in VERTEX_DICT.values():\n",
        "    ALL_X.add(value.x)\n",
        "    ALL_Y.add(value.y)\n",
        "    ALL_XY.append([value.x, value.y])\n",
        "\n",
        "\n",
        "\n",
        "ALL_X = SortedList(ALL_X)           # для быстрого поиска индекса заданного элемента в массиве\n",
        "ALL_Y = SortedList(ALL_Y)\n",
        "\n",
        "df_XY = pd.DataFrame(columns=['X', *ALL_X], index=['Y', *ALL_Y])\n",
        "\n",
        "for key, value in VERTEX_DICT.items():\n",
        "    df_XY[value.x][value.y] = key\n",
        "\n",
        "df_XY.head(5)\n"
      ]
    },
    {
      "cell_type": "markdown",
      "metadata": {
        "id": "s6l775NZ6Z8d"
      },
      "source": [
        "## DF"
      ]
    },
    {
      "cell_type": "code",
      "execution_count": null,
      "metadata": {
        "id": "FzpYPjrnj8WN"
      },
      "outputs": [],
      "source": [
        "def create_empty_prod_dataframe():\n",
        "    cols2 = ['Article', 'Vertex', 'Pallet_index', 'Sell_by_date']   # таблица, \n",
        "    DF_PROD = pd.DataFrame(columns=cols2)                   # которая будет хранить все товары\n",
        "    \n",
        "    return DF_PROD"
      ]
    },
    {
      "cell_type": "code",
      "execution_count": null,
      "metadata": {
        "id": "i2wEtXlARGYG"
      },
      "outputs": [],
      "source": [
        "def put_product_to_rack(products, sell_by_dates, rack_index, pallet_column, pallet_tier):\n",
        "    '''\n",
        "    Помещает товар на стеллаж\n",
        "\n",
        "    rack_index имеет вид \"G-8\" для нечётных стеллажей (подъезд с северной стороны) или \"G'-8\" - для чётных стеллажей (подъезд с южной стороны)\n",
        "    \n",
        "    '''\n",
        "    if type(products) != list:\n",
        "        products = [products]\n",
        "    if type(sell_by_dates) != list:\n",
        "        sell_by_dates = [sell_by_dates]\n",
        "\n",
        "    prod_list = [Product(p,s) for p,s in zip(products, sell_by_dates)]\n",
        "\n",
        "    r, c = rack_index.split('-')\n",
        "    c = int(c)\n",
        "    rack = DF_RACK[r][c]\n",
        "    pallet = Pallet(prod_list)\n",
        "\n",
        "    if DF_PROD.last_valid_index() is None:\n",
        "        i = 0\n",
        "    else:\n",
        "        i = DF_PROD.last_valid_index() + 1\n",
        "    \n",
        "    for prod in prod_list:\n",
        "        prod.index = i\n",
        "        i += 1\n",
        "\n",
        "    rack.put_pallet(pallet, column=pallet_column, tier=pallet_tier)\n",
        "\n"
      ]
    },
    {
      "cell_type": "code",
      "execution_count": null,
      "metadata": {
        "colab": {
          "base_uri": "https://localhost:8080/"
        },
        "id": "f1HJVQH8TqSP",
        "outputId": "301b316b-3b19-4637-b615-6a079c9e4084"
      },
      "outputs": [
        {
          "output_type": "execute_result",
          "data": {
            "text/plain": [
              "  Article    Vertex Pallet_index Sell_by_date\n",
              "0    Milk  J-5(p-0)       (0, 0)     01_02_23\n",
              "1   Coffe  J-5(p-0)       (0, 0)     01_09_23"
            ],
            "text/html": [
              "\n",
              "  <div id=\"df-e19074b4-4a80-4c45-a437-8c780a651095\">\n",
              "    <div class=\"colab-df-container\">\n",
              "      <div>\n",
              "<style scoped>\n",
              "    .dataframe tbody tr th:only-of-type {\n",
              "        vertical-align: middle;\n",
              "    }\n",
              "\n",
              "    .dataframe tbody tr th {\n",
              "        vertical-align: top;\n",
              "    }\n",
              "\n",
              "    .dataframe thead th {\n",
              "        text-align: right;\n",
              "    }\n",
              "</style>\n",
              "<table border=\"1\" class=\"dataframe\">\n",
              "  <thead>\n",
              "    <tr style=\"text-align: right;\">\n",
              "      <th></th>\n",
              "      <th>Article</th>\n",
              "      <th>Vertex</th>\n",
              "      <th>Pallet_index</th>\n",
              "      <th>Sell_by_date</th>\n",
              "    </tr>\n",
              "  </thead>\n",
              "  <tbody>\n",
              "    <tr>\n",
              "      <th>0</th>\n",
              "      <td>Milk</td>\n",
              "      <td>J-5(p-0)</td>\n",
              "      <td>(0, 0)</td>\n",
              "      <td>01_02_23</td>\n",
              "    </tr>\n",
              "    <tr>\n",
              "      <th>1</th>\n",
              "      <td>Coffe</td>\n",
              "      <td>J-5(p-0)</td>\n",
              "      <td>(0, 0)</td>\n",
              "      <td>01_09_23</td>\n",
              "    </tr>\n",
              "  </tbody>\n",
              "</table>\n",
              "</div>\n",
              "      <button class=\"colab-df-convert\" onclick=\"convertToInteractive('df-e19074b4-4a80-4c45-a437-8c780a651095')\"\n",
              "              title=\"Convert this dataframe to an interactive table.\"\n",
              "              style=\"display:none;\">\n",
              "        \n",
              "  <svg xmlns=\"http://www.w3.org/2000/svg\" height=\"24px\"viewBox=\"0 0 24 24\"\n",
              "       width=\"24px\">\n",
              "    <path d=\"M0 0h24v24H0V0z\" fill=\"none\"/>\n",
              "    <path d=\"M18.56 5.44l.94 2.06.94-2.06 2.06-.94-2.06-.94-.94-2.06-.94 2.06-2.06.94zm-11 1L8.5 8.5l.94-2.06 2.06-.94-2.06-.94L8.5 2.5l-.94 2.06-2.06.94zm10 10l.94 2.06.94-2.06 2.06-.94-2.06-.94-.94-2.06-.94 2.06-2.06.94z\"/><path d=\"M17.41 7.96l-1.37-1.37c-.4-.4-.92-.59-1.43-.59-.52 0-1.04.2-1.43.59L10.3 9.45l-7.72 7.72c-.78.78-.78 2.05 0 2.83L4 21.41c.39.39.9.59 1.41.59.51 0 1.02-.2 1.41-.59l7.78-7.78 2.81-2.81c.8-.78.8-2.07 0-2.86zM5.41 20L4 18.59l7.72-7.72 1.47 1.35L5.41 20z\"/>\n",
              "  </svg>\n",
              "      </button>\n",
              "      \n",
              "  <style>\n",
              "    .colab-df-container {\n",
              "      display:flex;\n",
              "      flex-wrap:wrap;\n",
              "      gap: 12px;\n",
              "    }\n",
              "\n",
              "    .colab-df-convert {\n",
              "      background-color: #E8F0FE;\n",
              "      border: none;\n",
              "      border-radius: 50%;\n",
              "      cursor: pointer;\n",
              "      display: none;\n",
              "      fill: #1967D2;\n",
              "      height: 32px;\n",
              "      padding: 0 0 0 0;\n",
              "      width: 32px;\n",
              "    }\n",
              "\n",
              "    .colab-df-convert:hover {\n",
              "      background-color: #E2EBFA;\n",
              "      box-shadow: 0px 1px 2px rgba(60, 64, 67, 0.3), 0px 1px 3px 1px rgba(60, 64, 67, 0.15);\n",
              "      fill: #174EA6;\n",
              "    }\n",
              "\n",
              "    [theme=dark] .colab-df-convert {\n",
              "      background-color: #3B4455;\n",
              "      fill: #D2E3FC;\n",
              "    }\n",
              "\n",
              "    [theme=dark] .colab-df-convert:hover {\n",
              "      background-color: #434B5C;\n",
              "      box-shadow: 0px 1px 3px 1px rgba(0, 0, 0, 0.15);\n",
              "      filter: drop-shadow(0px 1px 2px rgba(0, 0, 0, 0.3));\n",
              "      fill: #FFFFFF;\n",
              "    }\n",
              "  </style>\n",
              "\n",
              "      <script>\n",
              "        const buttonEl =\n",
              "          document.querySelector('#df-e19074b4-4a80-4c45-a437-8c780a651095 button.colab-df-convert');\n",
              "        buttonEl.style.display =\n",
              "          google.colab.kernel.accessAllowed ? 'block' : 'none';\n",
              "\n",
              "        async function convertToInteractive(key) {\n",
              "          const element = document.querySelector('#df-e19074b4-4a80-4c45-a437-8c780a651095');\n",
              "          const dataTable =\n",
              "            await google.colab.kernel.invokeFunction('convertToInteractive',\n",
              "                                                     [key], {});\n",
              "          if (!dataTable) return;\n",
              "\n",
              "          const docLinkHtml = 'Like what you see? Visit the ' +\n",
              "            '<a target=\"_blank\" href=https://colab.research.google.com/notebooks/data_table.ipynb>data table notebook</a>'\n",
              "            + ' to learn more about interactive tables.';\n",
              "          element.innerHTML = '';\n",
              "          dataTable['output_type'] = 'display_data';\n",
              "          await google.colab.output.renderOutput(dataTable, element);\n",
              "          const docLink = document.createElement('div');\n",
              "          docLink.innerHTML = docLinkHtml;\n",
              "          element.appendChild(docLink);\n",
              "        }\n",
              "      </script>\n",
              "    </div>\n",
              "  </div>\n",
              "  "
            ]
          },
          "metadata": {},
          "execution_count": 24
        }
      ],
      "source": [
        "# Помещаем 2 вида товаров на 1 паллету на стеллаже\n",
        "DF_PROD = create_empty_prod_dataframe()\n",
        "\n",
        "put_product_to_rack(['Milk', 'Coffe'], ['01_02_23', '01_09_23'], rack_index='J-5', pallet_column=0, pallet_tier=0)\n",
        "\n",
        "DF_PROD"
      ]
    },
    {
      "cell_type": "code",
      "execution_count": null,
      "metadata": {
        "colab": {
          "base_uri": "https://localhost:8080/"
        },
        "id": "FzkR-HiF4HOB",
        "outputId": "2a4a719c-5024-4b3e-bd1b-92c4724139db"
      },
      "outputs": [
        {
          "output_type": "execute_result",
          "data": {
            "text/plain": [
              "  Article    Vertex Pallet_index Sell_by_date\n",
              "0    Milk  J-5(p-0)       (0, 0)     01_02_23\n",
              "1   Coffe  J-5(p-0)       (0, 0)     01_09_23\n",
              "2     Tea  J-5(p-2)       (2, 0)     01_02_23"
            ],
            "text/html": [
              "\n",
              "  <div id=\"df-f053fa02-d755-4aa4-af02-a3ec87fc4a14\">\n",
              "    <div class=\"colab-df-container\">\n",
              "      <div>\n",
              "<style scoped>\n",
              "    .dataframe tbody tr th:only-of-type {\n",
              "        vertical-align: middle;\n",
              "    }\n",
              "\n",
              "    .dataframe tbody tr th {\n",
              "        vertical-align: top;\n",
              "    }\n",
              "\n",
              "    .dataframe thead th {\n",
              "        text-align: right;\n",
              "    }\n",
              "</style>\n",
              "<table border=\"1\" class=\"dataframe\">\n",
              "  <thead>\n",
              "    <tr style=\"text-align: right;\">\n",
              "      <th></th>\n",
              "      <th>Article</th>\n",
              "      <th>Vertex</th>\n",
              "      <th>Pallet_index</th>\n",
              "      <th>Sell_by_date</th>\n",
              "    </tr>\n",
              "  </thead>\n",
              "  <tbody>\n",
              "    <tr>\n",
              "      <th>0</th>\n",
              "      <td>Milk</td>\n",
              "      <td>J-5(p-0)</td>\n",
              "      <td>(0, 0)</td>\n",
              "      <td>01_02_23</td>\n",
              "    </tr>\n",
              "    <tr>\n",
              "      <th>1</th>\n",
              "      <td>Coffe</td>\n",
              "      <td>J-5(p-0)</td>\n",
              "      <td>(0, 0)</td>\n",
              "      <td>01_09_23</td>\n",
              "    </tr>\n",
              "    <tr>\n",
              "      <th>2</th>\n",
              "      <td>Tea</td>\n",
              "      <td>J-5(p-2)</td>\n",
              "      <td>(2, 0)</td>\n",
              "      <td>01_02_23</td>\n",
              "    </tr>\n",
              "  </tbody>\n",
              "</table>\n",
              "</div>\n",
              "      <button class=\"colab-df-convert\" onclick=\"convertToInteractive('df-f053fa02-d755-4aa4-af02-a3ec87fc4a14')\"\n",
              "              title=\"Convert this dataframe to an interactive table.\"\n",
              "              style=\"display:none;\">\n",
              "        \n",
              "  <svg xmlns=\"http://www.w3.org/2000/svg\" height=\"24px\"viewBox=\"0 0 24 24\"\n",
              "       width=\"24px\">\n",
              "    <path d=\"M0 0h24v24H0V0z\" fill=\"none\"/>\n",
              "    <path d=\"M18.56 5.44l.94 2.06.94-2.06 2.06-.94-2.06-.94-.94-2.06-.94 2.06-2.06.94zm-11 1L8.5 8.5l.94-2.06 2.06-.94-2.06-.94L8.5 2.5l-.94 2.06-2.06.94zm10 10l.94 2.06.94-2.06 2.06-.94-2.06-.94-.94-2.06-.94 2.06-2.06.94z\"/><path d=\"M17.41 7.96l-1.37-1.37c-.4-.4-.92-.59-1.43-.59-.52 0-1.04.2-1.43.59L10.3 9.45l-7.72 7.72c-.78.78-.78 2.05 0 2.83L4 21.41c.39.39.9.59 1.41.59.51 0 1.02-.2 1.41-.59l7.78-7.78 2.81-2.81c.8-.78.8-2.07 0-2.86zM5.41 20L4 18.59l7.72-7.72 1.47 1.35L5.41 20z\"/>\n",
              "  </svg>\n",
              "      </button>\n",
              "      \n",
              "  <style>\n",
              "    .colab-df-container {\n",
              "      display:flex;\n",
              "      flex-wrap:wrap;\n",
              "      gap: 12px;\n",
              "    }\n",
              "\n",
              "    .colab-df-convert {\n",
              "      background-color: #E8F0FE;\n",
              "      border: none;\n",
              "      border-radius: 50%;\n",
              "      cursor: pointer;\n",
              "      display: none;\n",
              "      fill: #1967D2;\n",
              "      height: 32px;\n",
              "      padding: 0 0 0 0;\n",
              "      width: 32px;\n",
              "    }\n",
              "\n",
              "    .colab-df-convert:hover {\n",
              "      background-color: #E2EBFA;\n",
              "      box-shadow: 0px 1px 2px rgba(60, 64, 67, 0.3), 0px 1px 3px 1px rgba(60, 64, 67, 0.15);\n",
              "      fill: #174EA6;\n",
              "    }\n",
              "\n",
              "    [theme=dark] .colab-df-convert {\n",
              "      background-color: #3B4455;\n",
              "      fill: #D2E3FC;\n",
              "    }\n",
              "\n",
              "    [theme=dark] .colab-df-convert:hover {\n",
              "      background-color: #434B5C;\n",
              "      box-shadow: 0px 1px 3px 1px rgba(0, 0, 0, 0.15);\n",
              "      filter: drop-shadow(0px 1px 2px rgba(0, 0, 0, 0.3));\n",
              "      fill: #FFFFFF;\n",
              "    }\n",
              "  </style>\n",
              "\n",
              "      <script>\n",
              "        const buttonEl =\n",
              "          document.querySelector('#df-f053fa02-d755-4aa4-af02-a3ec87fc4a14 button.colab-df-convert');\n",
              "        buttonEl.style.display =\n",
              "          google.colab.kernel.accessAllowed ? 'block' : 'none';\n",
              "\n",
              "        async function convertToInteractive(key) {\n",
              "          const element = document.querySelector('#df-f053fa02-d755-4aa4-af02-a3ec87fc4a14');\n",
              "          const dataTable =\n",
              "            await google.colab.kernel.invokeFunction('convertToInteractive',\n",
              "                                                     [key], {});\n",
              "          if (!dataTable) return;\n",
              "\n",
              "          const docLinkHtml = 'Like what you see? Visit the ' +\n",
              "            '<a target=\"_blank\" href=https://colab.research.google.com/notebooks/data_table.ipynb>data table notebook</a>'\n",
              "            + ' to learn more about interactive tables.';\n",
              "          element.innerHTML = '';\n",
              "          dataTable['output_type'] = 'display_data';\n",
              "          await google.colab.output.renderOutput(dataTable, element);\n",
              "          const docLink = document.createElement('div');\n",
              "          docLink.innerHTML = docLinkHtml;\n",
              "          element.appendChild(docLink);\n",
              "        }\n",
              "      </script>\n",
              "    </div>\n",
              "  </div>\n",
              "  "
            ]
          },
          "metadata": {},
          "execution_count": 25
        }
      ],
      "source": [
        "# Добавляем на стеллаж ещё одну паллету с одним товаром\n",
        "\n",
        "put_product_to_rack('Tea', '01_02_23', rack_index='J-5', pallet_column=2, pallet_tier=0)\n",
        "\n",
        "DF_PROD"
      ]
    },
    {
      "cell_type": "code",
      "execution_count": null,
      "metadata": {
        "colab": {
          "base_uri": "https://localhost:8080/"
        },
        "id": "XOWDn19fn8o-",
        "outputId": "8be75716-b351-4d7f-db5a-347841b6df22"
      },
      "outputs": [
        {
          "output_type": "execute_result",
          "data": {
            "text/plain": [
              "array([[[Pallet at (0,0)], None, None, None, None],\n",
              "       [None, None, None, None, None],\n",
              "       [[Pallet at (2,0)], None, None, None, None],\n",
              "       [None, None, None, None, None]], dtype=object)"
            ]
          },
          "metadata": {},
          "execution_count": 26
        }
      ],
      "source": [
        "# Посмотрим на весь стеллаж\n",
        "\n",
        "DF_RACK['J'][5].pallets"
      ]
    },
    {
      "cell_type": "code",
      "execution_count": null,
      "metadata": {
        "colab": {
          "base_uri": "https://localhost:8080/"
        },
        "id": "VzK6kkvVDVAC",
        "outputId": "0383b7ee-7e20-4cb6-fddf-123be49f1d8f"
      },
      "outputs": [
        {
          "output_type": "execute_result",
          "data": {
            "text/plain": [
              "[Pallet at (None,None)]"
            ]
          },
          "metadata": {},
          "execution_count": 27
        }
      ],
      "source": [
        "# Забираем паллету со стеллажа\n",
        "\n",
        "DF_RACK['J'][5].get_pallet(0,0)"
      ]
    },
    {
      "cell_type": "code",
      "execution_count": null,
      "metadata": {
        "colab": {
          "base_uri": "https://localhost:8080/"
        },
        "id": "uGyUAXRs1T6j",
        "outputId": "65227dbd-92ce-4948-9c7a-d72442208cca"
      },
      "outputs": [
        {
          "output_type": "execute_result",
          "data": {
            "text/plain": [
              "array([[None, None, None, None, None],\n",
              "       [None, None, None, None, None],\n",
              "       [[Pallet at (2,0)], None, None, None, None],\n",
              "       [None, None, None, None, None]], dtype=object)"
            ]
          },
          "metadata": {},
          "execution_count": 28
        }
      ],
      "source": [
        "# Проверяем, что паллета со стеллажа исчезала\n",
        "\n",
        "DF_RACK['J'][5].pallets"
      ]
    },
    {
      "cell_type": "code",
      "execution_count": null,
      "metadata": {
        "colab": {
          "base_uri": "https://localhost:8080/"
        },
        "id": "GuAc2g3REAUc",
        "outputId": "4ce5dae3-1001-4f30-c4b2-a060303bfc07"
      },
      "outputs": [
        {
          "output_type": "execute_result",
          "data": {
            "text/plain": [
              "  Article                  Vertex Pallet_index Sell_by_date\n",
              "0    Milk  Оn going (31.6, 38.75)       (0, 0)     01_02_23\n",
              "1   Coffe  Оn going (31.6, 38.75)       (0, 0)     01_09_23\n",
              "2     Tea                J-5(p-2)       (2, 0)     01_02_23"
            ],
            "text/html": [
              "\n",
              "  <div id=\"df-18187e7b-988b-41ea-bc23-60394b6c81fd\">\n",
              "    <div class=\"colab-df-container\">\n",
              "      <div>\n",
              "<style scoped>\n",
              "    .dataframe tbody tr th:only-of-type {\n",
              "        vertical-align: middle;\n",
              "    }\n",
              "\n",
              "    .dataframe tbody tr th {\n",
              "        vertical-align: top;\n",
              "    }\n",
              "\n",
              "    .dataframe thead th {\n",
              "        text-align: right;\n",
              "    }\n",
              "</style>\n",
              "<table border=\"1\" class=\"dataframe\">\n",
              "  <thead>\n",
              "    <tr style=\"text-align: right;\">\n",
              "      <th></th>\n",
              "      <th>Article</th>\n",
              "      <th>Vertex</th>\n",
              "      <th>Pallet_index</th>\n",
              "      <th>Sell_by_date</th>\n",
              "    </tr>\n",
              "  </thead>\n",
              "  <tbody>\n",
              "    <tr>\n",
              "      <th>0</th>\n",
              "      <td>Milk</td>\n",
              "      <td>Оn going (31.6, 38.75)</td>\n",
              "      <td>(0, 0)</td>\n",
              "      <td>01_02_23</td>\n",
              "    </tr>\n",
              "    <tr>\n",
              "      <th>1</th>\n",
              "      <td>Coffe</td>\n",
              "      <td>Оn going (31.6, 38.75)</td>\n",
              "      <td>(0, 0)</td>\n",
              "      <td>01_09_23</td>\n",
              "    </tr>\n",
              "    <tr>\n",
              "      <th>2</th>\n",
              "      <td>Tea</td>\n",
              "      <td>J-5(p-2)</td>\n",
              "      <td>(2, 0)</td>\n",
              "      <td>01_02_23</td>\n",
              "    </tr>\n",
              "  </tbody>\n",
              "</table>\n",
              "</div>\n",
              "      <button class=\"colab-df-convert\" onclick=\"convertToInteractive('df-18187e7b-988b-41ea-bc23-60394b6c81fd')\"\n",
              "              title=\"Convert this dataframe to an interactive table.\"\n",
              "              style=\"display:none;\">\n",
              "        \n",
              "  <svg xmlns=\"http://www.w3.org/2000/svg\" height=\"24px\"viewBox=\"0 0 24 24\"\n",
              "       width=\"24px\">\n",
              "    <path d=\"M0 0h24v24H0V0z\" fill=\"none\"/>\n",
              "    <path d=\"M18.56 5.44l.94 2.06.94-2.06 2.06-.94-2.06-.94-.94-2.06-.94 2.06-2.06.94zm-11 1L8.5 8.5l.94-2.06 2.06-.94-2.06-.94L8.5 2.5l-.94 2.06-2.06.94zm10 10l.94 2.06.94-2.06 2.06-.94-2.06-.94-.94-2.06-.94 2.06-2.06.94z\"/><path d=\"M17.41 7.96l-1.37-1.37c-.4-.4-.92-.59-1.43-.59-.52 0-1.04.2-1.43.59L10.3 9.45l-7.72 7.72c-.78.78-.78 2.05 0 2.83L4 21.41c.39.39.9.59 1.41.59.51 0 1.02-.2 1.41-.59l7.78-7.78 2.81-2.81c.8-.78.8-2.07 0-2.86zM5.41 20L4 18.59l7.72-7.72 1.47 1.35L5.41 20z\"/>\n",
              "  </svg>\n",
              "      </button>\n",
              "      \n",
              "  <style>\n",
              "    .colab-df-container {\n",
              "      display:flex;\n",
              "      flex-wrap:wrap;\n",
              "      gap: 12px;\n",
              "    }\n",
              "\n",
              "    .colab-df-convert {\n",
              "      background-color: #E8F0FE;\n",
              "      border: none;\n",
              "      border-radius: 50%;\n",
              "      cursor: pointer;\n",
              "      display: none;\n",
              "      fill: #1967D2;\n",
              "      height: 32px;\n",
              "      padding: 0 0 0 0;\n",
              "      width: 32px;\n",
              "    }\n",
              "\n",
              "    .colab-df-convert:hover {\n",
              "      background-color: #E2EBFA;\n",
              "      box-shadow: 0px 1px 2px rgba(60, 64, 67, 0.3), 0px 1px 3px 1px rgba(60, 64, 67, 0.15);\n",
              "      fill: #174EA6;\n",
              "    }\n",
              "\n",
              "    [theme=dark] .colab-df-convert {\n",
              "      background-color: #3B4455;\n",
              "      fill: #D2E3FC;\n",
              "    }\n",
              "\n",
              "    [theme=dark] .colab-df-convert:hover {\n",
              "      background-color: #434B5C;\n",
              "      box-shadow: 0px 1px 3px 1px rgba(0, 0, 0, 0.15);\n",
              "      filter: drop-shadow(0px 1px 2px rgba(0, 0, 0, 0.3));\n",
              "      fill: #FFFFFF;\n",
              "    }\n",
              "  </style>\n",
              "\n",
              "      <script>\n",
              "        const buttonEl =\n",
              "          document.querySelector('#df-18187e7b-988b-41ea-bc23-60394b6c81fd button.colab-df-convert');\n",
              "        buttonEl.style.display =\n",
              "          google.colab.kernel.accessAllowed ? 'block' : 'none';\n",
              "\n",
              "        async function convertToInteractive(key) {\n",
              "          const element = document.querySelector('#df-18187e7b-988b-41ea-bc23-60394b6c81fd');\n",
              "          const dataTable =\n",
              "            await google.colab.kernel.invokeFunction('convertToInteractive',\n",
              "                                                     [key], {});\n",
              "          if (!dataTable) return;\n",
              "\n",
              "          const docLinkHtml = 'Like what you see? Visit the ' +\n",
              "            '<a target=\"_blank\" href=https://colab.research.google.com/notebooks/data_table.ipynb>data table notebook</a>'\n",
              "            + ' to learn more about interactive tables.';\n",
              "          element.innerHTML = '';\n",
              "          dataTable['output_type'] = 'display_data';\n",
              "          await google.colab.output.renderOutput(dataTable, element);\n",
              "          const docLink = document.createElement('div');\n",
              "          docLink.innerHTML = docLinkHtml;\n",
              "          element.appendChild(docLink);\n",
              "        }\n",
              "      </script>\n",
              "    </div>\n",
              "  </div>\n",
              "  "
            ]
          },
          "metadata": {},
          "execution_count": 29
        }
      ],
      "source": [
        "DF_PROD"
      ]
    },
    {
      "cell_type": "code",
      "execution_count": null,
      "metadata": {
        "id": "NiEmg5OyYQ6M"
      },
      "outputs": [],
      "source": [
        "cols = ['Article', 'Pallet', 'Tier', 'Sell_by_date']\n",
        "DF_PROD = pd.DataFrame(columns=cols)"
      ]
    },
    {
      "cell_type": "markdown",
      "metadata": {
        "id": "PBbJ5IC57w4p"
      },
      "source": [
        "## Поиск"
      ]
    },
    {
      "cell_type": "code",
      "execution_count": null,
      "metadata": {
        "colab": {
          "base_uri": "https://localhost:8080/"
        },
        "id": "8Nc9q96R-4dh",
        "outputId": "b1d6c33c-67e9-456b-d5b0-97ea8076d429"
      },
      "outputs": [
        {
          "output_type": "execute_result",
          "data": {
            "text/plain": [
              "'\\nКлассический поиск наименьшего пути по взвешеному графу (алгоритм Дейкстры)\\nМинус в том, что он не учитывает количество поворотов (только длину пути), а лишние повороты (движение \"лесенкой\") - это не хорошо\\n\\nСуть модификации: сохранить все минимальные пути равной длинны, а потом при построении маршрута выбирать тот вариант, который не изменяет направление движения (если это возможно)\\n'"
            ],
            "application/vnd.google.colaboratory.intrinsic+json": {
              "type": "string"
            }
          },
          "metadata": {},
          "execution_count": 31
        }
      ],
      "source": [
        "'''\n",
        "Классический поиск наименьшего пути по взвешеному графу (алгоритм Дейкстры)\n",
        "Минус в том, что он не учитывает количество поворотов (только длину пути), а лишние повороты (движение \"лесенкой\") - это не хорошо\n",
        "\n",
        "Суть модификации: сохранить все минимальные пути равной длинны, а потом при построении маршрута выбирать тот вариант, который не изменяет направление движения (если это возможно)\n",
        "'''\n",
        "\n",
        "# def min_path(path_dict, start, end):\n",
        "#     if len(path_dict) == 0:\n",
        "#         return []\n",
        "#     path = []\n",
        "#     edge = path_dict[end][0]\n",
        "#     path.append(edge)\n",
        "#     while edge.u != start:\n",
        "#         edge = path_dict[edge.u][0]\n",
        "#         path.append(edge)\n",
        "#         orientation = edge.orientation()\n",
        "#     return list(reversed(path))\n",
        "\n",
        "# min_path(path_dict, 'TU-14(R)', 'D-3(p-1)')"
      ]
    },
    {
      "cell_type": "code",
      "execution_count": null,
      "metadata": {
        "id": "N-S310MH7mpr"
      },
      "outputs": [],
      "source": [
        "def graph_search(g, start):         # сканирует граф 'g'\n",
        "\n",
        "    first_vertex = g.vertex_dict[start]\n",
        "    distances = {key: None for key in g.vertex_dict.keys()}\n",
        "    distances[start] = 0\n",
        "    path_dict = {}                                                  #\n",
        "    pq = PriorityQueue()\n",
        "    pq.push(Node(first_vertex, distance=0))\n",
        "\n",
        "    while not pq.empty:\n",
        "        current_node = pq.pop()\n",
        "        u = current_node.vertex.name        \n",
        "        dist_u = distances[u]                       # from\n",
        "\n",
        "        for edge in g.neighbors_for_vertex(u):\n",
        "            v = edge.v\n",
        "            dist_v =  distances[v]        # to\n",
        "\n",
        "            if dist_v and dist_v == dist_u + edge.weight:\n",
        "                distances[v] = dist_v\n",
        "                path_dict[v].append(edge)\n",
        "\n",
        "            if dist_v is None or dist_v > dist_u + edge.weight:         # если расстояние до вершины не определено или найден более короткий путь,\n",
        "                distances[v] = dist_u + edge.weight                         # то обновляем значение дистанции до вершины\n",
        "                path_dict[v] = [edge]\n",
        "                new_vertex = g.vertex_dict[v]\n",
        "                pq.push(Node(new_vertex, distances[v], prev_node=current_node))\n",
        "    \n",
        "    # path_dict['start'] = [edge for edge in g.edge_dict[start]]\n",
        "    return path_dict\n",
        "\n",
        "\n",
        "def min_path(path_dict, start, end):        # ищет минимальный муть от start до end\n",
        "    if len(path_dict) == 0:\n",
        "        return []\n",
        "    for edge in path_dict[end]:             # если между конечной и начальной точкой 1 ребро - это и есть весь путь (иначе будет key error)\n",
        "        if edge.u == start:\n",
        "            return [edge]\n",
        "    path = []\n",
        "    edge = path_dict[end][0]\n",
        "    orientation = edge.orientation()\n",
        "    path.append(edge)\n",
        "    if len(path_dict[edge.u]) == 1:\n",
        "        while edge.u != start:\n",
        "            edge = path_dict[edge.u][0]\n",
        "            path.append(edge)\n",
        "    else:\n",
        "        while edge.u != start:\n",
        "            ed = None\n",
        "            for e in path_dict[edge.u]:\n",
        "                if e.orientation() != orientation:\n",
        "                    pass\n",
        "                else:\n",
        "                    ed = e\n",
        "                    break\n",
        "            if ed is None:\n",
        "                edge = path_dict[edge.u][0]\n",
        "            else:\n",
        "                edge = ed\n",
        "            path.append(edge)\n",
        "            orientation = edge.orientation()\n",
        "\n",
        "    return list(reversed(path))\n",
        "\n",
        "path_dict = graph_search(GRAPH, 'U-15(p-1)')\n",
        "path = min_path(path_dict, 'U-15(p-1)', 'C-5(p-1)')\n",
        "path_distances = [p.weight for p in path]\n",
        "path_distances = np.cumsum(path_distances)"
      ]
    },
    {
      "cell_type": "code",
      "execution_count": null,
      "metadata": {
        "colab": {
          "base_uri": "https://localhost:8080/"
        },
        "id": "dB6y4L0t8-AS",
        "outputId": "5905d71c-ea9a-40a0-d5ab-729eaa9d713c"
      },
      "outputs": [
        {
          "output_type": "display_data",
          "data": {
            "text/plain": [
              "<PIL.Image.Image image mode=RGB size=1000x720 at 0x7F1A25B475B0>"
            ],
            "image/png": "[encoded data removed]"
          },
          "metadata": {}
        }
      ],
      "source": [
        "canvas = empty_canvas.copy()\n",
        "\n",
        "for point in path:\n",
        "\n",
        "    P = PIXELS_IN_METER\n",
        "    u = point.u\n",
        "    v = point.v\n",
        "    x1 = round(vertex_dict[u].x*P)\n",
        "    y1 = round(vertex_dict[u].y*P)\n",
        "    x2 = round(vertex_dict[v].x*P)\n",
        "    y2 = round(vertex_dict[v].y*P)\n",
        "\n",
        "    canvas = cv2.line(canvas, (x1, y1), (x2, y2), (0, 0, 255), 1)\n",
        "cv2_imshow(canvas)"
      ]
    },
    {
      "cell_type": "code",
      "execution_count": null,
      "metadata": {
        "id": "tXpy7RVPk3xp"
      },
      "outputs": [],
      "source": [
        "canvas_ = canvas.copy()"
      ]
    },
    {
      "cell_type": "markdown",
      "metadata": {
        "id": "Af-fSiXyQynh"
      },
      "source": [
        "## Агенты"
      ]
    },
    {
      "cell_type": "code",
      "execution_count": null,
      "metadata": {
        "id": "Xffe_4Ora_N4"
      },
      "outputs": [],
      "source": [
        "class Target():\n",
        "    def __init__(self, vertex_index, x=None, y=None):\n",
        "        if vertex_index:\n",
        "            vertex = vertex_dict[vertex_index]\n",
        "            x = vertex.x\n",
        "            y = vertex.y\n",
        "            self.vertex = vertex\n",
        "\n",
        "        # self.name = name\n",
        "        self.x = x\n",
        "        self.y = y\n",
        "\n",
        "    def __repr__(self):\n",
        "        return self.vertex.name"
      ]
    },
    {
      "cell_type": "code",
      "execution_count": null,
      "metadata": {
        "id": "WK2U_wsNQ23D"
      },
      "outputs": [],
      "source": [
        "class Point():\n",
        "    doing = None\n",
        "    timer = 0\n",
        "    main_icon_path = None\n",
        "    extra_icon_path = None\n",
        "    moving_pause = False\n",
        "\n",
        "    def __init__(self, name, vertex, speed, graph, x=None, y=None):\n",
        "        if vertex:\n",
        "            x = vertex_dict[vertex].x\n",
        "            y = vertex_dict[vertex].y\n",
        "\n",
        "        if x and y and vertex is None:\n",
        "           vertex = self.find_nearest_vertex(x, y)\n",
        "\n",
        "        self.name = name\n",
        "        self.step_length = speed * SECONDS_IN_FRAME\n",
        "        self.graph = GRAPH\n",
        "        self.x = x\n",
        "        self.y = y\n",
        "        self.vertex = vertex\n",
        "        self.target = None\n",
        "        self.offset = 0\n",
        "        self.path = []\n",
        "        self.icon_w = 16\n",
        "        self.icon_h = 16\n",
        "        self.icon_main = np.full((self.icon_w,self.icon_h,3), fill_value=(np.array([0, 0, 255])))\n",
        "        self.icon = self.icon_main\n",
        "        self.pallet = None\n",
        "\n",
        "    def take_pallet(self, pallet):\n",
        "        if not(self.pallet):\n",
        "            self.pallet = pallet\n",
        "        else:\n",
        "            print(f'{self.name} already has a {self.pallet}')\n",
        "            ERRORS.loc[len(ERRORS)] = [f'{self.name} already has a {self.pallet}', f'vertex = {self.vertex}']\n",
        "\n",
        "    def give_pallet(self):\n",
        "        if not(self.pallet is None):\n",
        "            pal = self.pallet\n",
        "            self.pallet = None\n",
        "            return pal\n",
        "        else:\n",
        "            print(f'{self.name} has no pallet')\n",
        "            ERRORS.loc[len(ERRORS)] = [f'{self.name} has no pallet', f'vertex = {self.vertex}']\n",
        "\n",
        "    def direction(self):            # по идее не нужно, но пусть будет\n",
        "        if self.target is None:\n",
        "            return (0, 0)\n",
        "        else:\n",
        "            if self.x == self.target.x:\n",
        "                dir_x = 0\n",
        "\n",
        "            elif self.x < self.target.x:\n",
        "                dir_x = 1\n",
        "\n",
        "            elif self.x > self.target.x:\n",
        "                dir_x = -1\n",
        "\n",
        "            if self.y == self.target.y:\n",
        "                dir_y = 0\n",
        "\n",
        "            elif self.y < self.target.y:\n",
        "                dir_y = 1\n",
        "\n",
        "            elif self.y > self.target.y:\n",
        "                dir_y = -1    \n",
        "        return dir_x, dir_y  \n",
        "\n",
        "    def graph_search(self):         # сканирует граф 'g'\n",
        "        start = self.vertex\n",
        "        g = self.graph\n",
        "        first_vertex = g.vertex_dict[start]\n",
        "        distances = {key: None for key in g.vertex_dict.keys()}\n",
        "        distances[start] = 0\n",
        "        path_dict = {}                                                  #\n",
        "        pq = PriorityQueue()\n",
        "        pq.push(Node(first_vertex, distance=0))\n",
        "\n",
        "        while not pq.empty:\n",
        "            current_node = pq.pop()\n",
        "            u = current_node.vertex.name        \n",
        "            dist_u = distances[u]                       # from\n",
        "\n",
        "            for edge in g.neighbors_for_vertex(u):\n",
        "                v = edge.v\n",
        "                dist_v =  distances[v]        # to\n",
        "\n",
        "                if dist_v and dist_v == dist_u + edge.weight:\n",
        "                    distances[v] = dist_v\n",
        "                    path_dict[v].append(edge)\n",
        "\n",
        "                if dist_v is None or dist_v > dist_u + edge.weight:         # если расстояние до вершины не определено или найден более короткий путь,\n",
        "                    distances[v] = dist_u + edge.weight                         # то обновляем значение дистанции до вершины\n",
        "                    path_dict[v] = [edge]\n",
        "                    new_vertex = g.vertex_dict[v]\n",
        "                    pq.push(Node(new_vertex, distances[v], prev_node=current_node))\n",
        "        return path_dict\n",
        "\n",
        "\n",
        "    def find_min_path(self, start, end):        # ищет минимальный муть от start до end\n",
        "        path_dict = self.graph_search()\n",
        "\n",
        "        if len(path_dict) == 0:\n",
        "            return []\n",
        "\n",
        "        for edge in path_dict[end]:\n",
        "            if edge.u == start:\n",
        "                self.path = [edge]\n",
        "                return\n",
        "        path = []\n",
        "        edge = path_dict[end][0]\n",
        "        orientation = edge.orientation()\n",
        "        path.append(edge)\n",
        "        if len(path_dict[edge.u]) == 1:\n",
        "            while edge.u != start:\n",
        "                edge = path_dict[edge.u][0]\n",
        "                path.append(edge)\n",
        "        else:\n",
        "            while edge.u != start:\n",
        "                ed = None\n",
        "                for e in path_dict[edge.u]:\n",
        "                    if e.orientation() == 'o':\n",
        "                        ed = e\n",
        "                        break\n",
        "                    elif e.orientation() != orientation:\n",
        "                        pass\n",
        "                    else:\n",
        "                        ed = e\n",
        "                        break\n",
        "                if ed is None:\n",
        "                    edge = path_dict[edge.u][0]\n",
        "                else:\n",
        "                    edge = ed\n",
        "                path.append(edge)\n",
        "                orientation = edge.orientation()\n",
        "        self.path = deepcopy(list(reversed(path)))\n",
        "        path_distances = [p.weight for p in path]\n",
        "        self.path_distances = list(np.cumsum(path_distances))\n",
        "\n",
        "\n",
        "    def trunc_step(self):\n",
        "        i = False\n",
        "        dist = 0\n",
        "        edge = self.path[0].weight\n",
        "        while dist + edge < self.step_length:\n",
        "            dist += edge\n",
        "            i = True\n",
        "            vertex_index = self.path.pop(0).v\n",
        "            vertex = vertex_dict[vertex_index]\n",
        "            if self.path:\n",
        "                edge = self.path[0].weight\n",
        "            else:\n",
        "                self.vertex = vertex.name\n",
        "                self.x = self.graph.vertex_dict[self.vertex].x\n",
        "                self.y = self.graph.vertex_dict[self.vertex].y\n",
        "                # self.target = None\n",
        "                self.doing = None\n",
        "                return 0\n",
        "        if i:\n",
        "            self.x = vertex.x\n",
        "            self.y = vertex.y\n",
        "            self.temp = vertex\n",
        "            if self.path:\n",
        "                next_vertex_index = self.path[0].v\n",
        "                self.target = Target(next_vertex_index)\n",
        "\n",
        "        return self.step_length - dist\n",
        "\n",
        "\n",
        "    def move_XY(self, final_edge=False):\n",
        "        step = self.trunc_step()\n",
        "        a = self.target.x - self.x\n",
        "        b = self.target.y - self.y\n",
        "        if not(a) and not(b):\n",
        "            # print('NO a, b')\n",
        "            return\n",
        "        distanse = (a**2 + b**2)**0.5\n",
        "\n",
        "        if abs(b) < 0.001:\n",
        "            dx = step * self.direction()[0]\n",
        "            dy = 0\n",
        "        elif abs(a) < 0.001:\n",
        "            dx = 0\n",
        "            dy = step * self.direction()[1]\n",
        "        else:\n",
        "            dx = step / ((b / a)**2 + 1)**0.5 * self.direction()[0]\n",
        "            dy = step / ((a / b)**2 + 1)**0.5 * self.direction()[1]\n",
        "\n",
        "        offset = (dx**2 + dy**2)**0.5\n",
        "        if self.path:\n",
        "            self.path[0].weight = distanse - offset\n",
        "        self.x += dx\n",
        "        self.y += dy\n",
        "\n",
        "    def move_across_path(self):\n",
        "        if self.path:\n",
        "            self.move_XY()\n",
        "        else:\n",
        "            # self.target = None\n",
        "            self.doing = None\n",
        "            print('Приехали')\n",
        "\n",
        "\n",
        "    def go(self, target_vertex_key):\n",
        "\n",
        "        if not(self.vertex ):\n",
        "            VERTEX_DICT['temp'] = Vertex('temp', self.x, self.y)                # ИСПРАВИТЬ ДУБЛИРОВАНИЕ!\n",
        "            self.graph.vertex_dict['temp'] = Vertex('temp', self.x, self.y)\n",
        "            self.graph.edge_dict['temp'] = []\n",
        "            u =self.graph.vertex_dict['temp'].name\n",
        "            v, distance = self.find_nearest_vertex()\n",
        "            self.graph.add_edge_by_indice(u, v, weight=distance)\n",
        "            self.vertex = 'temp'\n",
        "\n",
        "        if self.vertex == target_vertex_key:\n",
        "            print('Already in point')\n",
        "            return\n",
        "        self.find_min_path(self.vertex, target_vertex_key)\n",
        "        self.vertex = None\n",
        "        self.target = Target(self.path[0].v)\n",
        "        self.move_across_path()\n",
        "        self.doing = 'go'\n",
        "\n",
        "    def jump(self, del_x, del_y):\n",
        "        self.x += del_x\n",
        "        self.y += del_y\n",
        "\n",
        "    def do_something(self, time, doing='doing_something'):\n",
        "        if self.doing == 'go':\n",
        "            self.doing = 'MOVING PAUSE: ' + doing\n",
        "            self.moving_pause = True\n",
        "\n",
        "        if time > 0.5:\n",
        "            self.doing = doing\n",
        "            self.timer = time // SECONDS_IN_FRAME\n",
        "            self.set_icon_timer()\n",
        "            self.increase_edge_weight(5 * time)\n",
        "\n",
        "\n",
        "    def increase_edge_weight(self, delta):\n",
        "        for edge in self.graph.edge_dict[self.vertex]:\n",
        "            edge.weight += delta\n",
        "\n",
        "    def restore_edge_weight(self):\n",
        "        for edge in self.graph.edge_dict[self.vertex]:\n",
        "            edge.weight = edge._weight\n",
        "\n",
        "    def busy(self):\n",
        "        return self.doing\n",
        "    \n",
        "    def set_icon_timer(self):\n",
        "        empty_icon = np.ones((self.icon_h, self.icon_w, 3)) * 255\n",
        "        self.icon = cv2.rectangle(empty_icon, (0,0), (self.icon_h, self.icon_w-1), (0,125,255), 2)\n",
        "        self.icon = cv2.putText(self.icon, str(self.timer), (1,10), cv2.FONT_HERSHEY_DUPLEX, 0.3, (0,0,0), 1)\n",
        "\n",
        "    def continue_(self):\n",
        "        if self.doing == 'go':\n",
        "            if self.path:\n",
        "                self.move_across_path()\n",
        "\n",
        "        elif self.doing:\n",
        "            self.timer -= 1\n",
        "            if self.timer <= 0:\n",
        "                if self.moving_pause:\n",
        "                    self.icon = self.icon_main\n",
        "                    self.moving_pause = False\n",
        "                    self.doing = 'go'\n",
        "                else:\n",
        "                    self.doing = None\n",
        "                    self.icon = self.icon_main\n",
        "                    self.restore_edge_weight()\n",
        "            else:\n",
        "                 self.set_icon_timer()\n",
        "        \n",
        "\n",
        "    def find_nearest_vertex(self):\n",
        "        tree = KDTree(ALL_XY)\n",
        "        dist, ind = tree.query([[self.x, self.y]])\n",
        "        x = ALL_XY[ind[0,0]][0]\n",
        "        y = ALL_XY[ind[0,0]][1]\n",
        "        return df_XY[x][y], dist[0,0]\n",
        "\n",
        "\n",
        "    def closure(self):\n",
        "        pass\n",
        "\n",
        "    def find_new_path(self):\n",
        "        pass\n",
        "\n",
        "x = Point('a', speed=2, vertex=\"A'-0(p-0)\", graph=GRAPH)"
      ]
    },
    {
      "cell_type": "code",
      "execution_count": null,
      "metadata": {
        "colab": {
          "base_uri": "https://localhost:8080/"
        },
        "id": "CHKPRoC-nnQA",
        "outputId": "7da272ab-2f97-4e7d-8319-1acb317285c4"
      },
      "outputs": [
        {
          "output_type": "display_data",
          "data": {
            "text/plain": [
              "<PIL.Image.Image image mode=RGB size=10x10 at 0x7F1A25B32DC0>"
            ],
            "image/png": "[encoded data removed]"
          },
          "metadata": {}
        }
      ],
      "source": [
        "class Truck(Point):\n",
        "    def __init__(self, name, vertex, speed, graph, x=None, y=None):\n",
        "        Point.__init__(self, name, vertex, speed, graph, x=None, y=None)\n",
        "        # self.icon_main = cv2.imread(\"truck.jpg\")\n",
        "        self.icon_w = 30\n",
        "        self.icon_h = 20\n",
        "        # self.icon_main = cv2.resize(self.icon_main, (self.icon_w, self.icon_h))\n",
        "        # self.icon = self.icon_main\n",
        "        # self.is_empty = is_empty\n",
        "        self.icon = np.full((10,10,3), fill_value=(np.array([255, 0, 0])))\n",
        "        self.icon_main = self.icon\n",
        "        self.step_length = TRUCK_SPEED * SECONDS_IN_FRAME\n",
        "\n",
        "truck = Truck('truck', vertex=\"B-15(p-3)\", speed=FORKLIFT_SPEED, graph=GRAPH)\n",
        "cv2_imshow(truck.icon)"
      ]
    },
    {
      "cell_type": "code",
      "execution_count": null,
      "metadata": {
        "colab": {
          "base_uri": "https://localhost:8080/"
        },
        "id": "D-n9vPRxpDVW",
        "outputId": "be0d86ad-4fc6-4c1d-93e6-cd6a316bbc00"
      },
      "outputs": [
        {
          "output_type": "display_data",
          "data": {
            "text/plain": [
              "<PIL.Image.Image image mode=RGB size=10x10 at 0x7F1A24D43700>"
            ],
            "image/png": "[encoded data removed]"
          },
          "metadata": {}
        }
      ],
      "source": [
        "class Stacker(Point):           # Штабелёр\n",
        "    def __init__(self, name, vertex, speed, graph, x=None, y=None):\n",
        "        Point.__init__(self, name, vertex, speed, graph, x=None, y=None)\n",
        "        # self.icon_main = cv2.imread(\"stacker.jpg\")\n",
        "        self.icon_w = 20\n",
        "        self.icon_h = 30\n",
        "        # self.icon_main = cv2.resize(self.icon_main, (self.icon_w, self.icon_h))\n",
        "        # self.icon = self.icon_main\n",
        "        self.icon = np.full((10,10,3), fill_value=(np.array([0, 255, 0])))\n",
        "        self.icon_main = self.icon\n",
        "        self.step_length = STACKER_SPEED * SECONDS_IN_FRAME\n",
        "\n",
        "staker = Stacker('staker', vertex=\"R-15(p-3)\", speed=FORKLIFT_SPEED, graph=GRAPH)\n",
        "cv2_imshow(staker.icon)"
      ]
    },
    {
      "cell_type": "code",
      "execution_count": null,
      "metadata": {
        "id": "Pz-9kZaep7Dh"
      },
      "outputs": [],
      "source": [
        "FORKLIFT_SPEED = 1\n",
        "SECONDS_IN_FRAME = 1\n",
        "DF_RACK = create_empty_rack_dataframe()\n",
        "create_empty_warehouse([])"
      ]
    },
    {
      "cell_type": "code",
      "execution_count": null,
      "metadata": {
        "colab": {
          "base_uri": "https://localhost:8080/"
        },
        "id": "WhvGqYaL19ix",
        "outputId": "7e1d8ef9-654b-4160-f00f-7342d71abc14"
      },
      "outputs": [
        {
          "output_type": "display_data",
          "data": {
            "text/plain": [
              "<PIL.Image.Image image mode=RGB size=10x10 at 0x7F1A24BF2820>"
            ],
            "image/png": "[encoded data removed]"
          },
          "metadata": {}
        }
      ],
      "source": [
        "class Forklift(Point):           # Вилочный погрузчик\n",
        "    def __init__(self, name, vertex, speed, graph, x=None, y=None):\n",
        "        Point.__init__(self, name, vertex, speed, graph, x=None, y=None)\n",
        "        # self.icon_empty = cv2.imread(\"forklift_empty.jpg\")\n",
        "        # self.icon_full = cv2.imread(\"forklift_full.jpg\")\n",
        "        self.icon_w = 10\n",
        "        self.icon_h = 10\n",
        "        # self.icon_empty = cv2.resize(self.icon_empty, (self.icon_w, self.icon_h))\n",
        "        # self.icon_full = cv2.resize(self.icon_full, (self.icon_w, self.icon_h))\n",
        "        # self.icon_main = self.icon_empty\n",
        "        # self.icon = self.icon_empty\n",
        "        self.icon = np.full((self.icon_h,self.icon_w,3), fill_value=(np.array([0, 0, 255])))\n",
        "        self.icon_main = self.icon\n",
        "\n",
        "forklift = Forklift('Forklift', vertex=\"U-15(p-3)\", speed=FORKLIFT_SPEED, graph=GRAPH)\n",
        "forklift_shape = forklift.icon.shape\n",
        "cv2_imshow(forklift.icon)"
      ]
    },
    {
      "cell_type": "code",
      "execution_count": null,
      "metadata": {
        "colab": {
          "base_uri": "https://localhost:8080/"
        },
        "id": "WHGCgk-TNzEP",
        "outputId": "9ad73b27-2188-485f-e649-d435a0645152"
      },
      "outputs": [
        {
          "output_type": "display_data",
          "data": {
            "text/plain": [
              "<PIL.Image.Image image mode=RGB size=1000x720 at 0x7F1A25958970>"
            ],
            "image/png": "[encoded data removed]"
          },
          "metadata": {}
        }
      ],
      "source": [
        "canvas = empty_canvas.copy()\n",
        "forklift.go(\"U-15(p-1)\")\n",
        "\n",
        "x, y = int(forklift.x * PIXELS_IN_METER), int(forklift.y * PIXELS_IN_METER)\n",
        "canvas[y - + forklift_shape[0]//2 : y + forklift_shape[0]//2, x - forklift_shape[1]//2 : x + forklift_shape[1]//2] = forklift.icon\n",
        "cv2_imshow(canvas)"
      ]
    },
    {
      "cell_type": "code",
      "execution_count": null,
      "metadata": {
        "id": "Mcx8acR49NZ_"
      },
      "outputs": [],
      "source": [
        "forklift.go(\"t6-35\")"
      ]
    },
    {
      "cell_type": "code",
      "execution_count": null,
      "metadata": {
        "id": "G2eOVguTSMez",
        "colab": {
          "base_uri": "https://localhost:8080/"
        },
        "outputId": "a4143d24-8b9c-4393-b5ba-d5ba51c5f925"
      },
      "outputs": [
        {
          "output_type": "display_data",
          "data": {
            "text/plain": [
              "<PIL.Image.Image image mode=RGB size=1000x720 at 0x7F1A249E4BB0>"
            ],
            "image/png": "[encoded data removed]"
          },
          "metadata": {}
        }
      ],
      "source": [
        "for i in range(10):\n",
        "    # canvas = canvas_.copy()\n",
        "    forklift.continue_()\n",
        "    x, y = int(forklift.x * PIXELS_IN_METER), int(forklift.y * PIXELS_IN_METER)\n",
        "    canvas[y - + forklift_shape[0]//2 : y + forklift_shape[0]//2, x - forklift_shape[1]//2 : x + forklift_shape[1]//2] = forklift.icon\n",
        "cv2_imshow(canvas)"
      ]
    },
    {
      "cell_type": "code",
      "source": [
        "forklift.path"
      ],
      "metadata": {
        "colab": {
          "base_uri": "https://localhost:8080/"
        },
        "id": "w9t-rVpU2yQG",
        "outputId": "db3c067d-d3fb-4a4a-b483-c00f2b61f0a6"
      },
      "execution_count": null,
      "outputs": [
        {
          "output_type": "execute_result",
          "data": {
            "text/plain": [
              "[Edge [ST-14(R) -> ST-14(L)] (w=1.799999999999983),\n",
              " Edge [ST-14(L) -> T-13(p-3)] (w=1.6),\n",
              " Edge [T-13(p-3) -> T-13(p-2)] (w=1.6),\n",
              " Edge [T-13(p-2) -> T-13(p-1)] (w=1.6),\n",
              " Edge [T-13(p-1) -> T-13(p-0)] (w=1.6),\n",
              " Edge [T-13(p-0) -> ST-12(R)] (w=1.6),\n",
              " Edge [ST-12(R) -> ST-12(L)] (w=3),\n",
              " Edge [ST-12(L) -> T-11(p-3)] (w=1.6),\n",
              " Edge [T-11(p-3) -> T-11(p-2)] (w=1.6),\n",
              " Edge [T-11(p-2) -> T-11(p-1)] (w=1.6),\n",
              " Edge [T-11(p-1) -> T-11(p-0)] (w=1.6),\n",
              " Edge [T-11(p-0) -> ST-10(R)] (w=1.6),\n",
              " Edge [ST-10(R) -> ST-10(L)] (w=3),\n",
              " Edge [ST-10(L) -> S'-9(p-3)] (w=1.6),\n",
              " Edge [S'-9(p-3) -> S'-9(p-2)] (w=1.6),\n",
              " Edge [S'-9(p-2) -> S'-9(p-1)] (w=1.6),\n",
              " Edge [S'-9(p-1) -> S'-9(p-0)] (w=1.6),\n",
              " Edge [S'-9(p-0) -> S'-8(p-3)] (w=1.2),\n",
              " Edge [S'-8(p-3) -> S'-8(p-2)] (w=1.6),\n",
              " Edge [S'-8(p-2) -> S'-8(p-1)] (w=1.6),\n",
              " Edge [S'-8(p-1) -> S'-8(p-0)] (w=1.6),\n",
              " Edge [S'-8(p-0) -> S'-7(p-3)] (w=1.2),\n",
              " Edge [S'-7(p-3) -> S'-7(p-2)] (w=1.6),\n",
              " Edge [S'-7(p-2) -> S'-7(p-1)] (w=1.6),\n",
              " Edge [S'-7(p-1) -> S'-7(p-0)] (w=1.6),\n",
              " Edge [S'-7(p-0) -> ST-6(R)] (w=1.6),\n",
              " Edge [ST-6(R) -> t6-31] (w=0.1),\n",
              " Edge [t6-31 -> t6-33] (w=0.8),\n",
              " Edge [t6-33 -> t6-35] (w=0.8)]"
            ]
          },
          "metadata": {},
          "execution_count": 44
        }
      ]
    },
    {
      "cell_type": "code",
      "execution_count": null,
      "metadata": {
        "id": "H4f3qSQzjjCG"
      },
      "outputs": [],
      "source": [
        "forklift.vertex"
      ]
    },
    {
      "cell_type": "code",
      "execution_count": null,
      "metadata": {
        "id": "O4nzNwWJgwpS",
        "colab": {
          "base_uri": "https://localhost:8080/"
        },
        "outputId": "e773ba14-67f0-492b-d63e-c554848df6e8"
      },
      "outputs": [
        {
          "output_type": "execute_result",
          "data": {
            "text/plain": [
              "87.79999999999998"
            ]
          },
          "metadata": {},
          "execution_count": 46
        }
      ],
      "source": [
        "forklift.x"
      ]
    },
    {
      "cell_type": "code",
      "source": [
        "vertex_dict['U-15(p-1)'].x"
      ],
      "metadata": {
        "colab": {
          "base_uri": "https://localhost:8080/"
        },
        "id": "vAGeQj9DQZIM",
        "outputId": "2a3de2c0-e817-4347-c29a-ef688a9c280f"
      },
      "execution_count": null,
      "outputs": [
        {
          "output_type": "execute_result",
          "data": {
            "text/plain": [
              "93.19999999999999"
            ]
          },
          "metadata": {},
          "execution_count": 47
        }
      ]
    },
    {
      "cell_type": "code",
      "execution_count": null,
      "metadata": {
        "id": "Za_LNcmNOiTi"
      },
      "outputs": [],
      "source": [
        "def render(agents=[]):\n",
        "    canvas = empty_canvas.copy()\n",
        "    for agent in agents:\n",
        "        agent_shape = agent.icon.shape\n",
        "        x, y = int(agent.x * PIXELS_IN_METER), int(agent.y * PIXELS_IN_METER)\n",
        "        canvas[y - + agent_shape[0]//2 : y + agent_shape[0]//2, x - agent_shape[1]//2 : x + agent_shape[1]//2] = agent.icon\n",
        "    cv2_imshow(canvas)"
      ]
    },
    {
      "cell_type": "markdown",
      "metadata": {
        "id": "OTdoi95OSy6Q"
      },
      "source": [
        "# Эксплуатация"
      ]
    },
    {
      "cell_type": "markdown",
      "metadata": {
        "id": "ZXuq9VUYXLCt"
      },
      "source": [
        "Глобальные переменные и функции"
      ]
    },
    {
      "cell_type": "code",
      "execution_count": null,
      "metadata": {
        "id": "czNGGZjRXOLO"
      },
      "outputs": [],
      "source": [
        "PIXELS_IN_METER = 7\n",
        "SECONDS_IN_FRAME = 1\n",
        "\n",
        "ERRORS = pd.DataFrame(columns=['Error', 'Info'])"
      ]
    },
    {
      "cell_type": "code",
      "execution_count": null,
      "metadata": {
        "id": "qQODTnQYZgnL"
      },
      "outputs": [],
      "source": [
        "row_names\n",
        "rack_column_names"
      ]
    },
    {
      "cell_type": "code",
      "execution_count": null,
      "metadata": {
        "id": "8ITDCcdaXsn7"
      },
      "outputs": [],
      "source": [
        "GRAPH       # Не экранировать!\n",
        "DF_PROD\n",
        "DF_RACK\n",
        "ALL_X\n",
        "ALL_Y\n",
        "ALL_XY\n",
        "df_XY"
      ]
    },
    {
      "cell_type": "markdown",
      "metadata": {
        "id": "RZiOA1Ahs7Hb"
      },
      "source": [
        "Действия"
      ]
    },
    {
      "cell_type": "code",
      "execution_count": null,
      "metadata": {
        "colab": {
          "base_uri": "https://localhost:8080/",
          "height": 34
        },
        "id": "ynttEDPEEGaq",
        "outputId": "feb2fe91-bb9f-4c79-af0a-939e23fd7e45"
      },
      "outputs": [
        {
          "output_type": "display_data",
          "data": {
            "text/plain": [
              "<PIL.Image.Image image mode=RGB size=10x10 at 0x7F1A257D4FD0>"
            ],
            "image/png": "[encoded data removed]"
          },
          "metadata": {}
        }
      ],
      "source": [
        "agent_1 = Point('Petrovich', vertex=\"FG-10(R)\", speed=2, graph=GRAPH)\n",
        "\n",
        "agent_1.icon_main = np.full((10,10,3), fill_value=(np.array([255, 0, 255])))\n",
        "agent_1.icon = agent_1.icon_main\n",
        "cv2_imshow(agent_1.icon)"
      ]
    },
    {
      "cell_type": "code",
      "execution_count": null,
      "metadata": {
        "colab": {
          "base_uri": "https://localhost:8080/",
          "height": 34
        },
        "id": "__0BmsnBEKux",
        "outputId": "8f634045-c393-4c6a-8ffc-1752abbd4c21"
      },
      "outputs": [
        {
          "output_type": "display_data",
          "data": {
            "text/plain": [
              "<PIL.Image.Image image mode=RGB size=10x10 at 0x7F1A46A81E80>"
            ],
            "image/png": "[encoded data removed]"
          },
          "metadata": {}
        }
      ],
      "source": [
        "agent_2 = Point('Mihalych', \"S-5(p-2)\", speed=2, graph=GRAPH)          # Создаём агента\n",
        "\n",
        "agent_2.icon_main = np.full((10,10,3), fill_value=(np.array([0, 0, 255])))\n",
        "agent_2.icon = agent_2.icon_main\n",
        "cv2_imshow(agent_2.icon)"
      ]
    },
    {
      "cell_type": "code",
      "execution_count": null,
      "metadata": {
        "id": "TwqNaaLSZsiH"
      },
      "outputs": [],
      "source": [
        "agents = [agent_1, agent_2]                                     # Список агентов передаётся функции create_empty_warehouse()\n",
        "\n",
        "custom_df_name = DF_RACK = create_empty_rack_dataframe()        # создаёт пустую таблицу для хранения стеллажей\n",
        "\n",
        "DF_PROD = create_empty_prod_dataframe()                         # Создаёт пустую таблицу для хранения товаров\n",
        "\n",
        "create_empty_warehouse(agents, create_df_rack=False)                                        # Создаёт объекты стеллажей (заносит в таблицу) и соединяет граф\n",
        "\n",
        "put_product_to_rack('Milk', '01.01.23', rack_index=\"B-0\", pallet_column=3, pallet_tier=1)       # Функция для заполнения стеллажа\n",
        "put_product_to_rack('Tea', '01.01.23', rack_index=\"B-0\", pallet_column=0, pallet_tier=1)"
      ]
    },
    {
      "cell_type": "code",
      "execution_count": null,
      "metadata": {
        "colab": {
          "base_uri": "https://localhost:8080/",
          "height": 344
        },
        "id": "o986AEG_YVnl",
        "outputId": "7a82a7d9-a8a8-45a5-b848-5cfbc749595c"
      },
      "outputs": [
        {
          "output_type": "execute_result",
          "data": {
            "text/plain": [
              "                        A'                       B                       B'  \\\n",
              "0  Rack A'-0 at (0.1, 0.1)  Rack B-0 at (0.1, 0.6)  Rack B'-0 at (0.1, 0.8)   \n",
              "1  Rack A'-1 at (1.0, 0.1)  Rack B-1 at (1.0, 0.6)  Rack B'-1 at (1.0, 0.8)   \n",
              "\n",
              "                        C                       C'                       D  \\\n",
              "0  Rack C-0 at (0.1, 1.2)  Rack C'-0 at (0.1, 1.4)  Rack D-0 at (0.1, 1.9)   \n",
              "1  Rack C-1 at (1.0, 1.2)  Rack C'-1 at (1.0, 1.4)  Rack D-1 at (1.0, 1.9)   \n",
              "\n",
              "                        D'                       E                       E'  \\\n",
              "0  Rack D'-0 at (0.1, 2.0)  Rack E-0 at (0.1, 2.5)  Rack E'-0 at (0.1, 2.7)   \n",
              "1  Rack D'-1 at (1.0, 2.0)  Rack E-1 at (1.0, 2.5)  Rack E'-1 at (1.0, 2.7)   \n",
              "\n",
              "                        F  ...                        U'  \\\n",
              "0  Rack F-0 at (0.1, 3.1)  ...  Rack U'-0 at (0.1, 13.0)   \n",
              "1  Rack F-1 at (1.0, 3.1)  ...  Rack U'-1 at (1.0, 13.0)   \n",
              "\n",
              "                         V                        V'                        W  \\\n",
              "0  Rack V-0 at (0.1, 13.4)  Rack V'-0 at (0.1, 13.6)  Rack W-0 at (0.1, 14.1)   \n",
              "1  Rack V-1 at (1.0, 13.4)  Rack V'-1 at (1.0, 13.6)  Rack W-1 at (1.0, 14.1)   \n",
              "\n",
              "              t2             t6             t10             t14  \\\n",
              "0  Tamp Rack 2-0  Tamp Rack 6-0  Tamp Rack 10-0  Tamp Rack 14-0   \n",
              "1  Tamp Rack 2-1  Tamp Rack 6-1  Tamp Rack 10-1  Tamp Rack 14-1   \n",
              "\n",
              "              t17             t20  \n",
              "0  Tamp Rack 17-0  Tamp Rack 20-0  \n",
              "1  Tamp Rack 17-1  Tamp Rack 20-1  \n",
              "\n",
              "[2 rows x 50 columns]"
            ],
            "text/html": [
              "\n",
              "  <div id=\"df-004c3100-be8e-49c7-acd2-e88d126d4d44\">\n",
              "    <div class=\"colab-df-container\">\n",
              "      <div>\n",
              "<style scoped>\n",
              "    .dataframe tbody tr th:only-of-type {\n",
              "        vertical-align: middle;\n",
              "    }\n",
              "\n",
              "    .dataframe tbody tr th {\n",
              "        vertical-align: top;\n",
              "    }\n",
              "\n",
              "    .dataframe thead th {\n",
              "        text-align: right;\n",
              "    }\n",
              "</style>\n",
              "<table border=\"1\" class=\"dataframe\">\n",
              "  <thead>\n",
              "    <tr style=\"text-align: right;\">\n",
              "      <th></th>\n",
              "      <th>A'</th>\n",
              "      <th>B</th>\n",
              "      <th>B'</th>\n",
              "      <th>C</th>\n",
              "      <th>C'</th>\n",
              "      <th>D</th>\n",
              "      <th>D'</th>\n",
              "      <th>E</th>\n",
              "      <th>E'</th>\n",
              "      <th>F</th>\n",
              "      <th>...</th>\n",
              "      <th>U'</th>\n",
              "      <th>V</th>\n",
              "      <th>V'</th>\n",
              "      <th>W</th>\n",
              "      <th>t2</th>\n",
              "      <th>t6</th>\n",
              "      <th>t10</th>\n",
              "      <th>t14</th>\n",
              "      <th>t17</th>\n",
              "      <th>t20</th>\n",
              "    </tr>\n",
              "  </thead>\n",
              "  <tbody>\n",
              "    <tr>\n",
              "      <th>0</th>\n",
              "      <td>Rack A'-0 at (0.1, 0.1)</td>\n",
              "      <td>Rack B-0 at (0.1, 0.6)</td>\n",
              "      <td>Rack B'-0 at (0.1, 0.8)</td>\n",
              "      <td>Rack C-0 at (0.1, 1.2)</td>\n",
              "      <td>Rack C'-0 at (0.1, 1.4)</td>\n",
              "      <td>Rack D-0 at (0.1, 1.9)</td>\n",
              "      <td>Rack D'-0 at (0.1, 2.0)</td>\n",
              "      <td>Rack E-0 at (0.1, 2.5)</td>\n",
              "      <td>Rack E'-0 at (0.1, 2.7)</td>\n",
              "      <td>Rack F-0 at (0.1, 3.1)</td>\n",
              "      <td>...</td>\n",
              "      <td>Rack U'-0 at (0.1, 13.0)</td>\n",
              "      <td>Rack V-0 at (0.1, 13.4)</td>\n",
              "      <td>Rack V'-0 at (0.1, 13.6)</td>\n",
              "      <td>Rack W-0 at (0.1, 14.1)</td>\n",
              "      <td>Tamp Rack 2-0</td>\n",
              "      <td>Tamp Rack 6-0</td>\n",
              "      <td>Tamp Rack 10-0</td>\n",
              "      <td>Tamp Rack 14-0</td>\n",
              "      <td>Tamp Rack 17-0</td>\n",
              "      <td>Tamp Rack 20-0</td>\n",
              "    </tr>\n",
              "    <tr>\n",
              "      <th>1</th>\n",
              "      <td>Rack A'-1 at (1.0, 0.1)</td>\n",
              "      <td>Rack B-1 at (1.0, 0.6)</td>\n",
              "      <td>Rack B'-1 at (1.0, 0.8)</td>\n",
              "      <td>Rack C-1 at (1.0, 1.2)</td>\n",
              "      <td>Rack C'-1 at (1.0, 1.4)</td>\n",
              "      <td>Rack D-1 at (1.0, 1.9)</td>\n",
              "      <td>Rack D'-1 at (1.0, 2.0)</td>\n",
              "      <td>Rack E-1 at (1.0, 2.5)</td>\n",
              "      <td>Rack E'-1 at (1.0, 2.7)</td>\n",
              "      <td>Rack F-1 at (1.0, 3.1)</td>\n",
              "      <td>...</td>\n",
              "      <td>Rack U'-1 at (1.0, 13.0)</td>\n",
              "      <td>Rack V-1 at (1.0, 13.4)</td>\n",
              "      <td>Rack V'-1 at (1.0, 13.6)</td>\n",
              "      <td>Rack W-1 at (1.0, 14.1)</td>\n",
              "      <td>Tamp Rack 2-1</td>\n",
              "      <td>Tamp Rack 6-1</td>\n",
              "      <td>Tamp Rack 10-1</td>\n",
              "      <td>Tamp Rack 14-1</td>\n",
              "      <td>Tamp Rack 17-1</td>\n",
              "      <td>Tamp Rack 20-1</td>\n",
              "    </tr>\n",
              "  </tbody>\n",
              "</table>\n",
              "<p>2 rows × 50 columns</p>\n",
              "</div>\n",
              "      <button class=\"colab-df-convert\" onclick=\"convertToInteractive('df-004c3100-be8e-49c7-acd2-e88d126d4d44')\"\n",
              "              title=\"Convert this dataframe to an interactive table.\"\n",
              "              style=\"display:none;\">\n",
              "        \n",
              "  <svg xmlns=\"http://www.w3.org/2000/svg\" height=\"24px\"viewBox=\"0 0 24 24\"\n",
              "       width=\"24px\">\n",
              "    <path d=\"M0 0h24v24H0V0z\" fill=\"none\"/>\n",
              "    <path d=\"M18.56 5.44l.94 2.06.94-2.06 2.06-.94-2.06-.94-.94-2.06-.94 2.06-2.06.94zm-11 1L8.5 8.5l.94-2.06 2.06-.94-2.06-.94L8.5 2.5l-.94 2.06-2.06.94zm10 10l.94 2.06.94-2.06 2.06-.94-2.06-.94-.94-2.06-.94 2.06-2.06.94z\"/><path d=\"M17.41 7.96l-1.37-1.37c-.4-.4-.92-.59-1.43-.59-.52 0-1.04.2-1.43.59L10.3 9.45l-7.72 7.72c-.78.78-.78 2.05 0 2.83L4 21.41c.39.39.9.59 1.41.59.51 0 1.02-.2 1.41-.59l7.78-7.78 2.81-2.81c.8-.78.8-2.07 0-2.86zM5.41 20L4 18.59l7.72-7.72 1.47 1.35L5.41 20z\"/>\n",
              "  </svg>\n",
              "      </button>\n",
              "      \n",
              "  <style>\n",
              "    .colab-df-container {\n",
              "      display:flex;\n",
              "      flex-wrap:wrap;\n",
              "      gap: 12px;\n",
              "    }\n",
              "\n",
              "    .colab-df-convert {\n",
              "      background-color: #E8F0FE;\n",
              "      border: none;\n",
              "      border-radius: 50%;\n",
              "      cursor: pointer;\n",
              "      display: none;\n",
              "      fill: #1967D2;\n",
              "      height: 32px;\n",
              "      padding: 0 0 0 0;\n",
              "      width: 32px;\n",
              "    }\n",
              "\n",
              "    .colab-df-convert:hover {\n",
              "      background-color: #E2EBFA;\n",
              "      box-shadow: 0px 1px 2px rgba(60, 64, 67, 0.3), 0px 1px 3px 1px rgba(60, 64, 67, 0.15);\n",
              "      fill: #174EA6;\n",
              "    }\n",
              "\n",
              "    [theme=dark] .colab-df-convert {\n",
              "      background-color: #3B4455;\n",
              "      fill: #D2E3FC;\n",
              "    }\n",
              "\n",
              "    [theme=dark] .colab-df-convert:hover {\n",
              "      background-color: #434B5C;\n",
              "      box-shadow: 0px 1px 3px 1px rgba(0, 0, 0, 0.15);\n",
              "      filter: drop-shadow(0px 1px 2px rgba(0, 0, 0, 0.3));\n",
              "      fill: #FFFFFF;\n",
              "    }\n",
              "  </style>\n",
              "\n",
              "      <script>\n",
              "        const buttonEl =\n",
              "          document.querySelector('#df-004c3100-be8e-49c7-acd2-e88d126d4d44 button.colab-df-convert');\n",
              "        buttonEl.style.display =\n",
              "          google.colab.kernel.accessAllowed ? 'block' : 'none';\n",
              "\n",
              "        async function convertToInteractive(key) {\n",
              "          const element = document.querySelector('#df-004c3100-be8e-49c7-acd2-e88d126d4d44');\n",
              "          const dataTable =\n",
              "            await google.colab.kernel.invokeFunction('convertToInteractive',\n",
              "                                                     [key], {});\n",
              "          if (!dataTable) return;\n",
              "\n",
              "          const docLinkHtml = 'Like what you see? Visit the ' +\n",
              "            '<a target=\"_blank\" href=https://colab.research.google.com/notebooks/data_table.ipynb>data table notebook</a>'\n",
              "            + ' to learn more about interactive tables.';\n",
              "          element.innerHTML = '';\n",
              "          dataTable['output_type'] = 'display_data';\n",
              "          await google.colab.output.renderOutput(dataTable, element);\n",
              "          const docLink = document.createElement('div');\n",
              "          docLink.innerHTML = docLinkHtml;\n",
              "          element.appendChild(docLink);\n",
              "        }\n",
              "      </script>\n",
              "    </div>\n",
              "  </div>\n",
              "  "
            ]
          },
          "metadata": {},
          "execution_count": 54
        }
      ],
      "source": [
        "custom_df_name.head(2)"
      ]
    },
    {
      "cell_type": "code",
      "execution_count": null,
      "metadata": {
        "colab": {
          "base_uri": "https://localhost:8080/"
        },
        "id": "8X1HVUOWXwPv",
        "outputId": "091c6134-7463-4e6b-bf25-2f0ff2f1b1e9"
      },
      "outputs": [
        {
          "output_type": "execute_result",
          "data": {
            "text/plain": [
              "array([[None, [Pallet at (0,1)], None, None, None],\n",
              "       [None, None, None, None, None],\n",
              "       [None, None, None, None, None],\n",
              "       [None, [Pallet at (3,1)], None, None, None]], dtype=object)"
            ]
          },
          "metadata": {},
          "execution_count": 55
        }
      ],
      "source": [
        "DF_RACK[\"B\"][0].pallets      # Список паллет стеллажа"
      ]
    },
    {
      "cell_type": "code",
      "execution_count": null,
      "metadata": {
        "colab": {
          "base_uri": "https://localhost:8080/",
          "height": 112
        },
        "id": "-AD9pLf3Vrys",
        "outputId": "db39773f-e504-4726-a853-37811714303e"
      },
      "outputs": [
        {
          "output_type": "execute_result",
          "data": {
            "text/plain": [
              "  Article    Vertex Pallet_index Sell_by_date\n",
              "0    Milk  B-0(p-3)       (3, 1)     01.01.23\n",
              "1     Tea  B-0(p-0)       (0, 1)     01.01.23"
            ],
            "text/html": [
              "\n",
              "  <div id=\"df-77ee4ba5-1589-4aed-a354-8ffd4ece9175\">\n",
              "    <div class=\"colab-df-container\">\n",
              "      <div>\n",
              "<style scoped>\n",
              "    .dataframe tbody tr th:only-of-type {\n",
              "        vertical-align: middle;\n",
              "    }\n",
              "\n",
              "    .dataframe tbody tr th {\n",
              "        vertical-align: top;\n",
              "    }\n",
              "\n",
              "    .dataframe thead th {\n",
              "        text-align: right;\n",
              "    }\n",
              "</style>\n",
              "<table border=\"1\" class=\"dataframe\">\n",
              "  <thead>\n",
              "    <tr style=\"text-align: right;\">\n",
              "      <th></th>\n",
              "      <th>Article</th>\n",
              "      <th>Vertex</th>\n",
              "      <th>Pallet_index</th>\n",
              "      <th>Sell_by_date</th>\n",
              "    </tr>\n",
              "  </thead>\n",
              "  <tbody>\n",
              "    <tr>\n",
              "      <th>0</th>\n",
              "      <td>Milk</td>\n",
              "      <td>B-0(p-3)</td>\n",
              "      <td>(3, 1)</td>\n",
              "      <td>01.01.23</td>\n",
              "    </tr>\n",
              "    <tr>\n",
              "      <th>1</th>\n",
              "      <td>Tea</td>\n",
              "      <td>B-0(p-0)</td>\n",
              "      <td>(0, 1)</td>\n",
              "      <td>01.01.23</td>\n",
              "    </tr>\n",
              "  </tbody>\n",
              "</table>\n",
              "</div>\n",
              "      <button class=\"colab-df-convert\" onclick=\"convertToInteractive('df-77ee4ba5-1589-4aed-a354-8ffd4ece9175')\"\n",
              "              title=\"Convert this dataframe to an interactive table.\"\n",
              "              style=\"display:none;\">\n",
              "        \n",
              "  <svg xmlns=\"http://www.w3.org/2000/svg\" height=\"24px\"viewBox=\"0 0 24 24\"\n",
              "       width=\"24px\">\n",
              "    <path d=\"M0 0h24v24H0V0z\" fill=\"none\"/>\n",
              "    <path d=\"M18.56 5.44l.94 2.06.94-2.06 2.06-.94-2.06-.94-.94-2.06-.94 2.06-2.06.94zm-11 1L8.5 8.5l.94-2.06 2.06-.94-2.06-.94L8.5 2.5l-.94 2.06-2.06.94zm10 10l.94 2.06.94-2.06 2.06-.94-2.06-.94-.94-2.06-.94 2.06-2.06.94z\"/><path d=\"M17.41 7.96l-1.37-1.37c-.4-.4-.92-.59-1.43-.59-.52 0-1.04.2-1.43.59L10.3 9.45l-7.72 7.72c-.78.78-.78 2.05 0 2.83L4 21.41c.39.39.9.59 1.41.59.51 0 1.02-.2 1.41-.59l7.78-7.78 2.81-2.81c.8-.78.8-2.07 0-2.86zM5.41 20L4 18.59l7.72-7.72 1.47 1.35L5.41 20z\"/>\n",
              "  </svg>\n",
              "      </button>\n",
              "      \n",
              "  <style>\n",
              "    .colab-df-container {\n",
              "      display:flex;\n",
              "      flex-wrap:wrap;\n",
              "      gap: 12px;\n",
              "    }\n",
              "\n",
              "    .colab-df-convert {\n",
              "      background-color: #E8F0FE;\n",
              "      border: none;\n",
              "      border-radius: 50%;\n",
              "      cursor: pointer;\n",
              "      display: none;\n",
              "      fill: #1967D2;\n",
              "      height: 32px;\n",
              "      padding: 0 0 0 0;\n",
              "      width: 32px;\n",
              "    }\n",
              "\n",
              "    .colab-df-convert:hover {\n",
              "      background-color: #E2EBFA;\n",
              "      box-shadow: 0px 1px 2px rgba(60, 64, 67, 0.3), 0px 1px 3px 1px rgba(60, 64, 67, 0.15);\n",
              "      fill: #174EA6;\n",
              "    }\n",
              "\n",
              "    [theme=dark] .colab-df-convert {\n",
              "      background-color: #3B4455;\n",
              "      fill: #D2E3FC;\n",
              "    }\n",
              "\n",
              "    [theme=dark] .colab-df-convert:hover {\n",
              "      background-color: #434B5C;\n",
              "      box-shadow: 0px 1px 3px 1px rgba(0, 0, 0, 0.15);\n",
              "      filter: drop-shadow(0px 1px 2px rgba(0, 0, 0, 0.3));\n",
              "      fill: #FFFFFF;\n",
              "    }\n",
              "  </style>\n",
              "\n",
              "      <script>\n",
              "        const buttonEl =\n",
              "          document.querySelector('#df-77ee4ba5-1589-4aed-a354-8ffd4ece9175 button.colab-df-convert');\n",
              "        buttonEl.style.display =\n",
              "          google.colab.kernel.accessAllowed ? 'block' : 'none';\n",
              "\n",
              "        async function convertToInteractive(key) {\n",
              "          const element = document.querySelector('#df-77ee4ba5-1589-4aed-a354-8ffd4ece9175');\n",
              "          const dataTable =\n",
              "            await google.colab.kernel.invokeFunction('convertToInteractive',\n",
              "                                                     [key], {});\n",
              "          if (!dataTable) return;\n",
              "\n",
              "          const docLinkHtml = 'Like what you see? Visit the ' +\n",
              "            '<a target=\"_blank\" href=https://colab.research.google.com/notebooks/data_table.ipynb>data table notebook</a>'\n",
              "            + ' to learn more about interactive tables.';\n",
              "          element.innerHTML = '';\n",
              "          dataTable['output_type'] = 'display_data';\n",
              "          await google.colab.output.renderOutput(dataTable, element);\n",
              "          const docLink = document.createElement('div');\n",
              "          docLink.innerHTML = docLinkHtml;\n",
              "          element.appendChild(docLink);\n",
              "        }\n",
              "      </script>\n",
              "    </div>\n",
              "  </div>\n",
              "  "
            ]
          },
          "metadata": {},
          "execution_count": 56
        }
      ],
      "source": [
        "DF_PROD"
      ]
    },
    {
      "cell_type": "code",
      "execution_count": null,
      "metadata": {
        "id": "xLcEpdXMhhex"
      },
      "outputs": [],
      "source": [
        "col, tier = DF_PROD.loc[1].Pallet_index             # получаем индекс паллеты для нужного нам товара\n",
        "\n",
        "pallet = DF_RACK[\"B\"][0].get_pallet(col, tier)        # снимаем паллету со стеллажа"
      ]
    },
    {
      "cell_type": "code",
      "execution_count": null,
      "metadata": {
        "colab": {
          "base_uri": "https://localhost:8080/"
        },
        "id": "njXABGp6IQmW",
        "outputId": "d0c06107-b308-419b-82c3-66240a85a3c9"
      },
      "outputs": [
        {
          "output_type": "execute_result",
          "data": {
            "text/plain": [
              "[Pallet at (None,None)]"
            ]
          },
          "metadata": {},
          "execution_count": 58
        }
      ],
      "source": [
        "agent_1.take_pallet(pallet)                         # отдаём агенту\n",
        "\n",
        "agent_1.pallet"
      ]
    },
    {
      "cell_type": "code",
      "execution_count": null,
      "metadata": {
        "colab": {
          "base_uri": "https://localhost:8080/"
        },
        "id": "2vfDVAqXlb-k",
        "outputId": "e7e7da4e-7391-4c00-fb0b-a186693ee6a7"
      },
      "outputs": [
        {
          "output_type": "execute_result",
          "data": {
            "text/plain": [
              "array([[None, None, None, None, None],\n",
              "       [None, None, None, None, None],\n",
              "       [None, None, None, None, None],\n",
              "       [None, [Pallet at (3,1)], None, None, None]], dtype=object)"
            ]
          },
          "metadata": {},
          "execution_count": 59
        }
      ],
      "source": [
        "DF_RACK[\"B\"][0].pallets                 # проверяем стеллаж"
      ]
    },
    {
      "cell_type": "code",
      "execution_count": null,
      "metadata": {
        "colab": {
          "base_uri": "https://localhost:8080/",
          "height": 52
        },
        "id": "4vrmrgrGf_OQ",
        "outputId": "a0afc3de-429c-4f6d-c1c1-74f1649a30fa"
      },
      "outputs": [
        {
          "output_type": "stream",
          "name": "stdout",
          "text": [
            "talk\n"
          ]
        },
        {
          "output_type": "display_data",
          "data": {
            "text/plain": [
              "<PIL.Image.Image image mode=RGB size=16x16 at 0x7F1A25815370>"
            ],
            "image/png": "[encoded data removed]"
          },
          "metadata": {}
        }
      ],
      "source": [
        "agent_1.do_something(2, 'talk')\n",
        "print(agent_1.busy())\n",
        "cv2_imshow(agent_1.icon)"
      ]
    },
    {
      "cell_type": "code",
      "execution_count": null,
      "metadata": {
        "colab": {
          "base_uri": "https://localhost:8080/",
          "height": 34
        },
        "id": "qJakpFLzDOAU",
        "outputId": "d28b59e0-4a46-4081-ac02-5f788d3d1b89"
      },
      "outputs": [
        {
          "output_type": "display_data",
          "data": {
            "text/plain": [
              "<PIL.Image.Image image mode=RGB size=16x16 at 0x7F1A4211DD90>"
            ],
            "image/png": "[encoded data removed]"
          },
          "metadata": {}
        }
      ],
      "source": [
        "agent_1.continue_()\n",
        "cv2_imshow(agent_1.icon)"
      ]
    },
    {
      "cell_type": "code",
      "execution_count": null,
      "metadata": {
        "colab": {
          "base_uri": "https://localhost:8080/",
          "height": 34
        },
        "id": "4_Xdrq0igbey",
        "outputId": "eac41966-2256-490c-8d2a-54c909bcc64b"
      },
      "outputs": [
        {
          "output_type": "display_data",
          "data": {
            "text/plain": [
              "<PIL.Image.Image image mode=RGB size=10x10 at 0x7F1A23E0A4C0>"
            ],
            "image/png": "[encoded data removed]"
          },
          "metadata": {}
        }
      ],
      "source": [
        "agent_1.continue_()\n",
        "cv2_imshow(agent_1.icon)"
      ]
    },
    {
      "cell_type": "code",
      "execution_count": null,
      "metadata": {
        "colab": {
          "base_uri": "https://localhost:8080/"
        },
        "id": "x4BkcZ7wheS9",
        "outputId": "0072ba6d-4cef-4863-90ae-49ebddf27fdf"
      },
      "outputs": [
        {
          "output_type": "stream",
          "name": "stdout",
          "text": [
            "None\n",
            "go\n"
          ]
        }
      ],
      "source": [
        "print(agent_1.busy())                   # Проверка, чем занят агент\n",
        "\n",
        "vertex = DF_PROD.loc[0].Vertex          # Получение вершины графа соответствующей нужному товару\n",
        "agent_1.go(vertex)                        # Направить агента в точку назначения\n",
        "agent_1.go('B-0(p-3)')\n",
        "\n",
        "print(agent_1.busy())                   "
      ]
    },
    {
      "cell_type": "code",
      "source": [
        "pallet = agent_2.give_pallet() "
      ],
      "metadata": {
        "colab": {
          "base_uri": "https://localhost:8080/"
        },
        "id": "EVSw40eDdpf9",
        "outputId": "1ff41b22-fd78-4923-f73b-ccbe25f6e279"
      },
      "execution_count": null,
      "outputs": [
        {
          "output_type": "stream",
          "name": "stdout",
          "text": [
            "Mihalych has no pallet\n"
          ]
        }
      ]
    },
    {
      "cell_type": "code",
      "execution_count": null,
      "metadata": {
        "id": "_BLHus4ML6N3",
        "colab": {
          "base_uri": "https://localhost:8080/"
        },
        "outputId": "21f31098-3464-4993-ce61-1e159dd1c337"
      },
      "outputs": [
        {
          "output_type": "execute_result",
          "data": {
            "text/plain": [
              "[Pallet at (None,None)]"
            ]
          },
          "metadata": {},
          "execution_count": 64
        }
      ],
      "source": [
        "pallet = agent_1.give_pallet()          # Забрать паллету у агента\n",
        "\n",
        "DF_RACK['t6'][12].put_pallet(pallet)        # Положить на стеллаж временного хранения\n",
        "\n",
        "DF_RACK['t6'][12].pallet"
      ]
    },
    {
      "cell_type": "code",
      "execution_count": null,
      "metadata": {
        "id": "ptB1mwmcmZ61",
        "colab": {
          "base_uri": "https://localhost:8080/",
          "height": 707
        },
        "outputId": "c3407a61-425f-4c77-da5c-f9803274cfd1"
      },
      "outputs": [
        {
          "output_type": "display_data",
          "data": {
            "text/plain": [
              "<PIL.Image.Image image mode=RGB size=1000x720 at 0x7FEDB86EA280>"
            ],
            "image/png": "[encoded data removed]"
          },
          "metadata": {}
        }
      ],
      "source": [
        "render(agents)                         # отрисовка агентов"
      ]
    },
    {
      "cell_type": "code",
      "source": [
        "cv2_imshow(vertexes)"
      ],
      "metadata": {
        "colab": {
          "base_uri": "https://localhost:8080/",
          "height": 707
        },
        "id": "DUTGl5FycpkB",
        "outputId": "48c01e5c-5205-4b0c-8815-9226288175ed"
      },
      "execution_count": null,
      "outputs": [
        {
          "output_type": "display_data",
          "data": {
            "text/plain": [
              "<PIL.Image.Image image mode=RGB size=1000x720 at 0x7F1A24C3A9D0>"
            ],
            "image/png": "[encoded data removed]"
          },
          "metadata": {}
        }
      ]
    },
    {
      "cell_type": "code",
      "source": [
        "\"A'-0(p-3)\", \"B-0(p-3)\", \"AB-2(L)\", \"t2-59\""
      ],
      "metadata": {
        "id": "D-O-qQMXcuxF"
      },
      "execution_count": null,
      "outputs": []
    },
    {
      "cell_type": "code",
      "execution_count": null,
      "metadata": {
        "id": "EFPE1dXZ2Oqh"
      },
      "outputs": [],
      "source": [
        "sun_is_shining = True\n",
        "\n",
        "while sun_is_shining:\n",
        "    for agent in agents:\n",
        "        agent.continue_()\n",
        "\n",
        "    sun_is_shining = False\n",
        "    "
      ]
    }
  ],
  "metadata": {
    "colab": {
      "collapsed_sections": [
        "NlNv2hseSahZ",
        "EyYaqy1ZLwOv",
        "2i8LHeXFL001",
        "_fbF3cm8TqWG",
        "lbwy6XDgU7GS",
        "WnmfJutGL7DZ",
        "s6l775NZ6Z8d",
        "PBbJ5IC57w4p",
        "Af-fSiXyQynh"
      ],
      "provenance": [],
      "include_colab_link": true
    },
    "kernelspec": {
      "display_name": "Python 3",
      "name": "python3"
    },
    "language_info": {
      "name": "python"
    }
  },
  "nbformat": 4,
  "nbformat_minor": 0
}